{
 "cells": [
  {
   "cell_type": "markdown",
   "id": "fa6f718f",
   "metadata": {},
   "source": [
    "<h1> This notebook shows how to convert a workflow instance into a QUBO </h1>"
   ]
  },
  {
   "cell_type": "markdown",
   "id": "a9d662fb",
   "metadata": {},
   "source": [
    "<div class=\"alert alert-block alert-info\">\n",
    "    <b> Create a workflow instance. </b>\n",
    "</div>"
   ]
  },
  {
   "cell_type": "code",
   "execution_count": 1,
   "id": "95074d7a",
   "metadata": {},
   "outputs": [],
   "source": [
    "from QHyper.problems.workflow_scheduling import (\n",
    "    Workflow,\n",
    "    WorkflowSchedulingProblem,\n",
    ")"
   ]
  },
  {
   "cell_type": "code",
   "execution_count": 2,
   "id": "c4afd588",
   "metadata": {},
   "outputs": [],
   "source": [
    "tasks_file =  \"workflows_data/workflows/4_tasks_3_machines_2_paths.json\"\n",
    "machines_file = \"workflows_data/machines/machines_for_3_tasks_3_machines_1_path.json\"\n",
    "deadline = 20"
   ]
  },
  {
   "cell_type": "code",
   "execution_count": 3,
   "id": "8d804eb3",
   "metadata": {},
   "outputs": [],
   "source": [
    "workflow = Workflow(tasks_file, machines_file, deadline)\n",
    "wsp = WorkflowSchedulingProblem(workflow)"
   ]
  },
  {
   "cell_type": "code",
   "execution_count": 4,
   "id": "ef5a4e50",
   "metadata": {},
   "outputs": [
    {
     "data": {
      "text/html": [
       "<div>\n",
       "<style scoped>\n",
       "    .dataframe tbody tr th:only-of-type {\n",
       "        vertical-align: middle;\n",
       "    }\n",
       "\n",
       "    .dataframe tbody tr th {\n",
       "        vertical-align: top;\n",
       "    }\n",
       "\n",
       "    .dataframe thead th {\n",
       "        text-align: right;\n",
       "    }\n",
       "</style>\n",
       "<table border=\"1\" class=\"dataframe\">\n",
       "  <thead>\n",
       "    <tr style=\"text-align: right;\">\n",
       "      <th></th>\n",
       "      <th>MachineA</th>\n",
       "      <th>MachineB</th>\n",
       "      <th>MachineC</th>\n",
       "    </tr>\n",
       "  </thead>\n",
       "  <tbody>\n",
       "    <tr>\n",
       "      <th>Task1</th>\n",
       "      <td>3.0</td>\n",
       "      <td>1.0</td>\n",
       "      <td>2.0</td>\n",
       "    </tr>\n",
       "    <tr>\n",
       "      <th>Task2</th>\n",
       "      <td>6.0</td>\n",
       "      <td>2.0</td>\n",
       "      <td>4.0</td>\n",
       "    </tr>\n",
       "    <tr>\n",
       "      <th>Task3</th>\n",
       "      <td>12.0</td>\n",
       "      <td>4.0</td>\n",
       "      <td>8.0</td>\n",
       "    </tr>\n",
       "    <tr>\n",
       "      <th>Task4</th>\n",
       "      <td>24.0</td>\n",
       "      <td>8.0</td>\n",
       "      <td>16.0</td>\n",
       "    </tr>\n",
       "  </tbody>\n",
       "</table>\n",
       "</div>"
      ],
      "text/plain": [
       "       MachineA  MachineB  MachineC\n",
       "Task1       3.0       1.0       2.0\n",
       "Task2       6.0       2.0       4.0\n",
       "Task3      12.0       4.0       8.0\n",
       "Task4      24.0       8.0      16.0"
      ]
     },
     "execution_count": 4,
     "metadata": {},
     "output_type": "execute_result"
    }
   ],
   "source": [
    "wsp.workflow.time_matrix"
   ]
  },
  {
   "cell_type": "code",
   "execution_count": 5,
   "id": "e6641cad",
   "metadata": {},
   "outputs": [
    {
     "data": {
      "text/html": [
       "<div>\n",
       "<style scoped>\n",
       "    .dataframe tbody tr th:only-of-type {\n",
       "        vertical-align: middle;\n",
       "    }\n",
       "\n",
       "    .dataframe tbody tr th {\n",
       "        vertical-align: top;\n",
       "    }\n",
       "\n",
       "    .dataframe thead th {\n",
       "        text-align: right;\n",
       "    }\n",
       "</style>\n",
       "<table border=\"1\" class=\"dataframe\">\n",
       "  <thead>\n",
       "    <tr style=\"text-align: right;\">\n",
       "      <th></th>\n",
       "      <th>MachineA</th>\n",
       "      <th>MachineB</th>\n",
       "      <th>MachineC</th>\n",
       "    </tr>\n",
       "  </thead>\n",
       "  <tbody>\n",
       "    <tr>\n",
       "      <th>Task1</th>\n",
       "      <td>3.0</td>\n",
       "      <td>4.0</td>\n",
       "      <td>4.0</td>\n",
       "    </tr>\n",
       "    <tr>\n",
       "      <th>Task2</th>\n",
       "      <td>6.0</td>\n",
       "      <td>8.0</td>\n",
       "      <td>8.0</td>\n",
       "    </tr>\n",
       "    <tr>\n",
       "      <th>Task3</th>\n",
       "      <td>12.0</td>\n",
       "      <td>16.0</td>\n",
       "      <td>16.0</td>\n",
       "    </tr>\n",
       "    <tr>\n",
       "      <th>Task4</th>\n",
       "      <td>24.0</td>\n",
       "      <td>32.0</td>\n",
       "      <td>32.0</td>\n",
       "    </tr>\n",
       "  </tbody>\n",
       "</table>\n",
       "</div>"
      ],
      "text/plain": [
       "       MachineA  MachineB  MachineC\n",
       "Task1       3.0       4.0       4.0\n",
       "Task2       6.0       8.0       8.0\n",
       "Task3      12.0      16.0      16.0\n",
       "Task4      24.0      32.0      32.0"
      ]
     },
     "execution_count": 5,
     "metadata": {},
     "output_type": "execute_result"
    }
   ],
   "source": [
    "wsp.workflow.cost_matrix"
   ]
  },
  {
   "cell_type": "code",
   "execution_count": 6,
   "id": "27768c3a",
   "metadata": {},
   "outputs": [
    {
     "name": "stdout",
     "output_type": "stream",
     "text": [
      "The objective function as a string is:\n",
      " 3.0*x0 + 4.0*x1 + 32.0*x10 + 32.0*x11 + 4.0*x2 + 6.0*x3 + 8.0*x4 + 8.0*x5 + 12.0*x6 + 16.0*x7 + 16.0*x8 + 24.0*x9\n"
     ]
    }
   ],
   "source": [
    "print(\n",
    "    f\"The objective function as a string is:\\n {wsp.objective_function.polynomial}\"\n",
    ")"
   ]
  },
  {
   "cell_type": "code",
   "execution_count": 7,
   "id": "0a11e388",
   "metadata": {},
   "outputs": [
    {
     "name": "stdout",
     "output_type": "stream",
     "text": [
      "The objective function as a dict is:\n",
      " {('x0',): 3.0, ('x1',): 4.0, ('x10',): 32.0, ('x11',): 32.0, ('x2',): 4.0, ('x3',): 6.0, ('x4',): 8.0, ('x5',): 8.0, ('x6',): 12.0, ('x7',): 16.0, ('x8',): 16.0, ('x9',): 24.0}\n"
     ]
    }
   ],
   "source": [
    "print(\n",
    "    f\"The objective function as a dict is:\\n {wsp.objective_function.as_dict()}\"\n",
    ")"
   ]
  },
  {
   "cell_type": "code",
   "execution_count": 8,
   "id": "89257146",
   "metadata": {},
   "outputs": [
    {
     "name": "stdout",
     "output_type": "stream",
     "text": [
      "Constraints as dicts:\n",
      "{('x0',): 1, ('x1',): 1, ('x2',): 1, (): -1}\n",
      "{('x3',): 1, ('x4',): 1, ('x5',): 1, (): -1}\n",
      "{('x6',): 1, ('x7',): 1, ('x8',): 1, (): -1}\n",
      "{('x10',): 1, ('x11',): 1, ('x9',): 1, (): -1}\n",
      "{('s0',): 1, ('s1',): 2, ('s2',): 4, ('x0',): 3.0, ('x1',): 1.0, ('x10',): 8.0, ('x11',): 16.0, ('x2',): 2.0, ('x3',): 6.0, ('x4',): 2.0, ('x5',): 4.0, ('x9',): 24.0, (): -20}\n",
      "{('s0',): 1, ('s1',): 2, ('s2',): 4, ('x0',): 3.0, ('x1',): 1.0, ('x10',): 8.0, ('x11',): 16.0, ('x2',): 2.0, ('x6',): 12.0, ('x7',): 4.0, ('x8',): 8.0, ('x9',): 24.0, (): -20}\n"
     ]
    }
   ],
   "source": [
    "print(\"Constraints as dicts:\")\n",
    "for constraint in wsp.constraints:\n",
    "    print(constraint.as_dict())"
   ]
  },
  {
   "cell_type": "code",
   "execution_count": 9,
   "id": "bf157c45",
   "metadata": {},
   "outputs": [
    {
     "data": {
      "text/plain": [
       "(13.0, 39.0)"
      ]
     },
     "execution_count": 9,
     "metadata": {},
     "output_type": "execute_result"
    }
   ],
   "source": [
    "wsp.get_deadlines()  # those are the fastest and the slowest execution times"
   ]
  },
  {
   "cell_type": "markdown",
   "id": "0ccc77bc",
   "metadata": {},
   "source": [
    "<div class=\"alert alert-block alert-info\">\n",
    "    <b> Convert the workflow to QUBO form. </b>\n",
    "</div>"
   ]
  },
  {
   "cell_type": "code",
   "execution_count": 10,
   "id": "8cfebb93",
   "metadata": {},
   "outputs": [],
   "source": [
    "from QHyper.solvers.converter import Converter"
   ]
  },
  {
   "cell_type": "code",
   "execution_count": 11,
   "id": "bdfd9456",
   "metadata": {},
   "outputs": [],
   "source": [
    "converter = Converter()"
   ]
  },
  {
   "cell_type": "markdown",
   "id": "c896804f",
   "metadata": {},
   "source": [
    "The converter returns the QUBO as a dict, and numerical offset. We partially use [this](https://test-projecttemplate-dimod.readthedocs.io/en/latest/reference/bqm/generated/dimod.BinaryQuadraticModel.to_qubo.html) method."
   ]
  },
  {
   "cell_type": "code",
   "execution_count": 12,
   "id": "7a105eca",
   "metadata": {},
   "outputs": [],
   "source": [
    "wsp_qubo, offset = converter.to_qubo(wsp)"
   ]
  },
  {
   "cell_type": "code",
   "execution_count": 13,
   "id": "2a4bf500",
   "metadata": {
    "scrolled": true
   },
   "outputs": [
    {
     "data": {
      "text/plain": [
       "{('x1', 'x0'): 140.0,\n",
       " ('x10', 'x0'): 960.0,\n",
       " ('x10', 'x1'): 320.0,\n",
       " ('x11', 'x0'): 1920.0,\n",
       " ('x11', 'x1'): 640.0,\n",
       " ('x11', 'x10'): 5140.0,\n",
       " ('x2', 'x0'): 260.0,\n",
       " ('x2', 'x1'): 100.0,\n",
       " ('x2', 'x10'): 640.0,\n",
       " ('x2', 'x11'): 1280.0,\n",
       " ('x3', 'x0'): 360.0,\n",
       " ('x3', 'x1'): 120.0,\n",
       " ('x3', 'x10'): 960.0,\n",
       " ('x3', 'x11'): 1920.0,\n",
       " ('x3', 'x2'): 240.0,\n",
       " ('x4', 'x0'): 120.0,\n",
       " ('x4', 'x1'): 40.0,\n",
       " ('x4', 'x10'): 320.0,\n",
       " ('x4', 'x11'): 640.0,\n",
       " ('x4', 'x2'): 80.0,\n",
       " ('x4', 'x3'): 260.0,\n",
       " ('x5', 'x0'): 240.0,\n",
       " ('x5', 'x1'): 80.0,\n",
       " ('x5', 'x10'): 640.0,\n",
       " ('x5', 'x11'): 1280.0,\n",
       " ('x5', 'x2'): 160.0,\n",
       " ('x5', 'x3'): 500.0,\n",
       " ('x5', 'x4'): 180.0,\n",
       " ('x6', 'x0'): 720.0,\n",
       " ('x6', 'x1'): 240.0,\n",
       " ('x6', 'x10'): 1920.0,\n",
       " ('x6', 'x11'): 3840.0,\n",
       " ('x6', 'x2'): 480.0,\n",
       " ('x7', 'x0'): 240.0,\n",
       " ('x7', 'x1'): 80.0,\n",
       " ('x7', 'x10'): 640.0,\n",
       " ('x7', 'x11'): 1280.0,\n",
       " ('x7', 'x2'): 160.0,\n",
       " ('x7', 'x6'): 980.0,\n",
       " ('x8', 'x0'): 480.0,\n",
       " ('x8', 'x1'): 160.0,\n",
       " ('x8', 'x10'): 1280.0,\n",
       " ('x8', 'x11'): 2560.0,\n",
       " ('x8', 'x2'): 320.0,\n",
       " ('x8', 'x6'): 1940.0,\n",
       " ('x8', 'x7'): 660.0,\n",
       " ('x9', 'x0'): 2880.0,\n",
       " ('x9', 'x1'): 960.0,\n",
       " ('x9', 'x10'): 7700.0,\n",
       " ('x9', 'x11'): 15380.0,\n",
       " ('x9', 'x2'): 1920.0,\n",
       " ('x9', 'x3'): 2880.0,\n",
       " ('x9', 'x4'): 960.0,\n",
       " ('x9', 'x5'): 1920.0,\n",
       " ('x9', 'x6'): 5760.0,\n",
       " ('x9', 'x7'): 1920.0,\n",
       " ('x9', 'x8'): 3840.0,\n",
       " ('s0', 'x0'): 120.0,\n",
       " ('s0', 'x1'): 40.0,\n",
       " ('s0', 'x10'): 320.0,\n",
       " ('s0', 'x11'): 640.0,\n",
       " ('s0', 'x2'): 80.0,\n",
       " ('s0', 'x3'): 120.0,\n",
       " ('s0', 'x4'): 40.0,\n",
       " ('s0', 'x5'): 80.0,\n",
       " ('s0', 'x6'): 240.0,\n",
       " ('s0', 'x7'): 80.0,\n",
       " ('s0', 'x8'): 160.0,\n",
       " ('s0', 'x9'): 960.0,\n",
       " ('s1', 'x0'): 240.0,\n",
       " ('s1', 'x1'): 80.0,\n",
       " ('s1', 'x10'): 640.0,\n",
       " ('s1', 'x11'): 1280.0,\n",
       " ('s1', 'x2'): 160.0,\n",
       " ('s1', 'x3'): 240.0,\n",
       " ('s1', 'x4'): 80.0,\n",
       " ('s1', 'x5'): 160.0,\n",
       " ('s1', 'x6'): 480.0,\n",
       " ('s1', 'x7'): 160.0,\n",
       " ('s1', 'x8'): 320.0,\n",
       " ('s1', 'x9'): 1920.0,\n",
       " ('s1', 's0'): 80.0,\n",
       " ('s2', 'x0'): 480.0,\n",
       " ('s2', 'x1'): 160.0,\n",
       " ('s2', 'x10'): 1280.0,\n",
       " ('s2', 'x11'): 2560.0,\n",
       " ('s2', 'x2'): 320.0,\n",
       " ('s2', 'x3'): 480.0,\n",
       " ('s2', 'x4'): 160.0,\n",
       " ('s2', 'x5'): 320.0,\n",
       " ('s2', 'x6'): 960.0,\n",
       " ('s2', 'x7'): 320.0,\n",
       " ('s2', 'x8'): 640.0,\n",
       " ('s2', 'x9'): 3840.0,\n",
       " ('s2', 's0'): 160.0,\n",
       " ('s2', 's1'): 320.0,\n",
       " ('x0', 'x0'): -2227.0,\n",
       " ('x1', 'x1'): -786.0,\n",
       " ('x10', 'x10'): -5098.0,\n",
       " ('x11', 'x11'): -7658.0,\n",
       " ('x2', 'x2'): -1526.0,\n",
       " ('x3', 'x3'): -2044.0,\n",
       " ('x4', 'x4'): -762.0,\n",
       " ('x5', 'x5'): -1442.0,\n",
       " ('x6', 'x6'): -3358.0,\n",
       " ('x7', 'x7'): -1434.0,\n",
       " ('x8', 'x8'): -2554.0,\n",
       " ('x9', 'x9'): -7666.0,\n",
       " ('s0', 's0'): -780.0,\n",
       " ('s1', 's1'): -1520.0,\n",
       " ('s2', 's2'): -2880.0}"
      ]
     },
     "execution_count": 13,
     "metadata": {},
     "output_type": "execute_result"
    }
   ],
   "source": [
    "wsp_qubo"
   ]
  },
  {
   "cell_type": "code",
   "execution_count": 14,
   "id": "c7e7ed25",
   "metadata": {},
   "outputs": [
    {
     "data": {
      "text/plain": [
       "8040.0"
      ]
     },
     "execution_count": 14,
     "metadata": {},
     "output_type": "execute_result"
    }
   ],
   "source": [
    "offset"
   ]
  },
  {
   "cell_type": "markdown",
   "id": "5b0056b0",
   "metadata": {},
   "source": [
    "-----------------\n"
   ]
  },
  {
   "cell_type": "markdown",
   "id": "68e05848",
   "metadata": {},
   "source": [
    "<h3> This part shows how to use solvers from QHyper </h3>"
   ]
  },
  {
   "cell_type": "markdown",
   "id": "4ee5a401",
   "metadata": {},
   "source": [
    "<div class=\"alert alert-block alert-info\">\n",
    "    <b> Solve the Workflow Schedluling Problem with the CQM solver. </b>\n",
    "</div>"
   ]
  },
  {
   "cell_type": "code",
   "execution_count": 15,
   "id": "451581cc",
   "metadata": {},
   "outputs": [],
   "source": [
    "from QHyper.solvers.cqm import CQM"
   ]
  },
  {
   "cell_type": "code",
   "execution_count": 16,
   "id": "f23a7065",
   "metadata": {},
   "outputs": [],
   "source": [
    "cqm_problem = CQM(problem=wsp, time=5)"
   ]
  },
  {
   "cell_type": "code",
   "execution_count": 17,
   "id": "78ad8dc8",
   "metadata": {},
   "outputs": [
    {
     "name": "stdout",
     "output_type": "stream",
     "text": [
      "{'s0': 1.0, 's1': 0.0, 's2': 1.0, 'x0': 1.0, 'x1': 0.0, 'x10': 1.0, 'x11': 0.0, 'x2': 0.0, 'x3': 0.0, 'x4': 0.0, 'x5': 1.0, 'x6': 0.0, 'x7': 1.0, 'x8': 0.0, 'x9': 0.0}\n"
     ]
    }
   ],
   "source": [
    "solution = cqm_problem.solve()\n",
    "print(solution)"
   ]
  },
  {
   "cell_type": "code",
   "execution_count": 18,
   "id": "7632ef6e",
   "metadata": {},
   "outputs": [
    {
     "data": {
      "text/plain": [
       "{'Task1': 'MachineA',\n",
       " 'Task4': 'MachineB',\n",
       " 'Task2': 'MachineC',\n",
       " 'Task3': 'MachineB'}"
      ]
     },
     "execution_count": 18,
     "metadata": {},
     "output_type": "execute_result"
    }
   ],
   "source": [
    "wsp.decode_solution(solution)"
   ]
  },
  {
   "cell_type": "markdown",
   "id": "2dafa9de",
   "metadata": {},
   "source": [
    "<div class=\"alert alert-block alert-info\">\n",
    "    <b> Solve the Workflow Schedluling Problem with the Gurobi solver. </b>\n",
    "</div>"
   ]
  },
  {
   "cell_type": "code",
   "execution_count": 19,
   "id": "333e4729",
   "metadata": {},
   "outputs": [],
   "source": [
    "from QHyper.solvers.gurobi import Gurobi"
   ]
  },
  {
   "cell_type": "code",
   "execution_count": 20,
   "id": "ee115372",
   "metadata": {},
   "outputs": [],
   "source": [
    "gurobi = Gurobi(problem=wsp)"
   ]
  },
  {
   "cell_type": "code",
   "execution_count": 22,
   "id": "f8deff43",
   "metadata": {
    "scrolled": true
   },
   "outputs": [
    {
     "ename": "TypeError",
     "evalue": "Gurobi.solve() missing 1 required positional argument: 'params_inits'",
     "output_type": "error",
     "traceback": [
      "\u001b[0;31m---------------------------------------------------------------------------\u001b[0m",
      "\u001b[0;31mTypeError\u001b[0m                                 Traceback (most recent call last)",
      "\u001b[1;32m/Users/jzawalska/Coding/QHyper-vsc/QHyper/demo/Workflows_to_QUBO.ipynb Cell 29\u001b[0m line \u001b[0;36m1\n\u001b[0;32m----> <a href='vscode-notebook-cell:/Users/jzawalska/Coding/QHyper-vsc/QHyper/demo/Workflows_to_QUBO.ipynb#X40sZmlsZQ%3D%3D?line=0'>1</a>\u001b[0m solution_gurobi \u001b[39m=\u001b[39m gurobi\u001b[39m.\u001b[39;49msolve()\n",
      "\u001b[0;31mTypeError\u001b[0m: Gurobi.solve() missing 1 required positional argument: 'params_inits'"
     ]
    }
   ],
   "source": [
    "solution_gurobi = gurobi.solve()"
   ]
  },
  {
   "cell_type": "code",
   "execution_count": 23,
   "id": "a97f7f47",
   "metadata": {
    "scrolled": true
   },
   "outputs": [
    {
     "ename": "NameError",
     "evalue": "name 'solution_gurobi' is not defined",
     "output_type": "error",
     "traceback": [
      "\u001b[0;31m---------------------------------------------------------------------------\u001b[0m",
      "\u001b[0;31mNameError\u001b[0m                                 Traceback (most recent call last)",
      "\u001b[1;32m/Users/jzawalska/Coding/QHyper-vsc/QHyper/demo/Workflows_to_QUBO.ipynb Cell 30\u001b[0m line \u001b[0;36m1\n\u001b[0;32m----> <a href='vscode-notebook-cell:/Users/jzawalska/Coding/QHyper-vsc/QHyper/demo/Workflows_to_QUBO.ipynb#X41sZmlsZQ%3D%3D?line=0'>1</a>\u001b[0m solution_gurobi\n",
      "\u001b[0;31mNameError\u001b[0m: name 'solution_gurobi' is not defined"
     ]
    }
   ],
   "source": [
    "solution_gurobi"
   ]
  },
  {
   "cell_type": "code",
   "execution_count": 24,
   "id": "1842cc4b",
   "metadata": {},
   "outputs": [
    {
     "ename": "NameError",
     "evalue": "name 'solution_gurobi' is not defined",
     "output_type": "error",
     "traceback": [
      "\u001b[0;31m---------------------------------------------------------------------------\u001b[0m",
      "\u001b[0;31mNameError\u001b[0m                                 Traceback (most recent call last)",
      "\u001b[1;32m/Users/jzawalska/Coding/QHyper-vsc/QHyper/demo/Workflows_to_QUBO.ipynb Cell 31\u001b[0m line \u001b[0;36m1\n\u001b[0;32m----> <a href='vscode-notebook-cell:/Users/jzawalska/Coding/QHyper-vsc/QHyper/demo/Workflows_to_QUBO.ipynb#X42sZmlsZQ%3D%3D?line=0'>1</a>\u001b[0m wsp\u001b[39m.\u001b[39mdecode_solution(solution_gurobi)\n",
      "\u001b[0;31mNameError\u001b[0m: name 'solution_gurobi' is not defined"
     ]
    }
   ],
   "source": [
    "wsp.decode_solution(solution_gurobi)"
   ]
  },
  {
   "cell_type": "code",
   "execution_count": null,
   "id": "c8bd9992",
   "metadata": {},
   "outputs": [],
   "source": []
  }
 ],
 "metadata": {
  "kernelspec": {
   "display_name": "Python 3 (ipykernel)",
   "language": "python",
   "name": "python3"
  },
  "language_info": {
   "codemirror_mode": {
    "name": "ipython",
    "version": 3
   },
   "file_extension": ".py",
   "mimetype": "text/x-python",
   "name": "python",
   "nbconvert_exporter": "python",
   "pygments_lexer": "ipython3",
   "version": "3.10.8"
  }
 },
 "nbformat": 4,
 "nbformat_minor": 5
}
