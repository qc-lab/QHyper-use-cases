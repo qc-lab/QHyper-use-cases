{
 "cells": [
  {
   "cell_type": "code",
   "execution_count": 1,
   "metadata": {},
   "outputs": [],
   "source": [
    "from QHyper.problems import KnapsackProblem\n",
    "from QHyper.solvers import solver_from_config\n",
    "from QHyper.util import (\n",
    "    weighted_avg_evaluation, sort_solver_results, add_evaluation_to_results)\n",
    "\n",
    "import numpy as np\n",
    "\n",
    "\n",
    "problem_config = {  # This is going to be used later\n",
    "    'type': 'knapsack',\n",
    "    'max_weight': 8,\n",
    "    'items': [(1, 2), (2, 4), (1, 2), (1, 1), (4, 5)]\n",
    "}\n",
    "\n",
    "params_config = {\n",
    "    'angles': [[0.5]*5, [1]*5],\n",
    "    'hyper_args': [1, 2.5, 2.5],\n",
    "}\n",
    "hyper_optimizer_bounds = 3*[(1, 10)]\n",
    "penalty = 5\n"
   ]
  },
  {
   "cell_type": "code",
   "execution_count": 2,
   "metadata": {},
   "outputs": [],
   "source": [
    "def get_solver_config_1(angles):\n",
    "    return {\n",
    "        \"solver\": {\n",
    "            \"type\": \"vqa\",\n",
    "            # \"optimizer\": {\n",
    "            #     # \"type\": \"scipy\",\n",
    "            #     # \"maxfun\": 200,\n",
    "\n",
    "            #     \"type\": \"random\",\n",
    "            #     \"number_of_samples\": 10,\n",
    "            #     \"bounds\": 10*[(0, 2*np.pi)],\n",
    "            #     # \"type\": \"cem\",\n",
    "            #     \"processes\": 10,\n",
    "            #     # \"samples_per_epoch\": 500,\n",
    "            #     # \"epochs\": 5,\n",
    "            #     # \"bounds\": 10*[(0, 2*np.pi)],\n",
    "            #     # \"verbose\": True,\n",
    "            #     \"disable_tqdm\": True,\n",
    "            # },\n",
    "            \"pqc\": {\n",
    "                \"type\": \"qaoa\",\n",
    "                \"layers\": 5,\n",
    "                # \"dev\": \"lightning.gpu\",\n",
    "                # \"limit_results\": 20,b\n",
    "                # \"penalty\": penalty,\n",
    "            },\n",
    "            \"params_inits\": {\n",
    "                'angles': angles,\n",
    "                'hyper_args': [1, 2.5, 2.5],\n",
    "            },\n",
    "            # \"hyper_optimizer\": {\n",
    "            #     \"type\": \"cem\",\n",
    "            #     \"processes\": 5,\n",
    "            #     \"samples_per_epoch\": 5000,\n",
    "            #     \"epochs\": 5,\n",
    "            #     \"bounds\": hyper_optimizer_bounds,\n",
    "            # }\n",
    "        },\n",
    "        \"problem\": problem_config\n",
    "    }\n",
    "\n",
    "def get_solver_config_2(angles):\n",
    "    return {\n",
    "        \"solver\": {\n",
    "            \"type\": \"vqa\",\n",
    "            # \"optimizer\": {\n",
    "            #     # \"type\": \"scipy\",\n",
    "            #     # \"maxfun\": 200,\n",
    "\n",
    "            #     \"type\": \"random\",\n",
    "            #     \"number_of_samples\": 10,\n",
    "            #     \"bounds\": 10*[(0, 2*np.pi)],\n",
    "            #     # \"type\": \"cem\",\n",
    "            #     \"processes\": 10,\n",
    "            #     # \"samples_per_epoch\": 500,\n",
    "            #     # \"epochs\": 5,\n",
    "            #     # \"bounds\": 10*[(0, 2*np.pi)],\n",
    "            #     # \"verbose\": True,\n",
    "            #     \"disable_tqdm\": True,\n",
    "            # },\n",
    "            \"pqc\": {\n",
    "                \"type\": \"wfqaoa\",\n",
    "                \"layers\": 5,\n",
    "                # \"limit_results\": 20,b\n",
    "                \"penalty\": penalty,\n",
    "                # \"dev\": \"lightning.gpu\",\n",
    "            },\n",
    "            \"params_inits\": {\n",
    "                'angles': angles,\n",
    "                'hyper_args': [1, 2.5, 2.5],\n",
    "            },\n",
    "            # \"hyper_optimizer\": {\n",
    "            #     \"type\": \"cem\",\n",
    "            #     \"processes\": 5,\n",
    "            #     \"samples_per_epoch\": 5000,\n",
    "            #     \"epochs\": 5,\n",
    "            #     \"bounds\": hyper_optimizer_bounds,\n",
    "            # }\n",
    "        },\n",
    "        \"problem\": problem_config\n",
    "    }\n"
   ]
  },
  {
   "cell_type": "code",
   "execution_count": 3,
   "metadata": {},
   "outputs": [],
   "source": [
    "def run_solver1(inits):\n",
    "    solver_config = get_solver_config_1(inits)\n",
    "    solver = solver_from_config(solver_config)\n",
    "    results = solver.solve()\n",
    "    return results\n",
    "\n",
    "def run_solver2(inits):\n",
    "    solver_config = get_solver_config_2(inits)\n",
    "    solver = solver_from_config(solver_config)\n",
    "    results = solver.solve()\n",
    "    return results\n"
   ]
  },
  {
   "cell_type": "code",
   "execution_count": 4,
   "metadata": {},
   "outputs": [
    {
     "name": "stderr",
     "output_type": "stream",
     "text": [
      "100%|██████████| 1000/1000 [19:36<00:00,  1.18s/it]\n",
      "100%|██████████| 1000/1000 [11:01<00:00,  1.51it/s]\n"
     ]
    }
   ],
   "source": [
    "import multiprocessing as mp\n",
    "import tqdm\n",
    "\n",
    "iterations = 1000\n",
    "\n",
    "random_inits = np.random.rand(iterations, 2, 5)\n",
    "with mp.Pool(processes=10) as p:\n",
    "    results_1 = list(tqdm.tqdm(\n",
    "        p.imap(\n",
    "            run_solver1,\n",
    "            random_inits,\n",
    "        ),\n",
    "        total=iterations,\n",
    "    ))\n",
    "    results_2 = list(tqdm.tqdm(\n",
    "        p.imap(\n",
    "            run_solver2,\n",
    "            random_inits,\n",
    "        ),\n",
    "        total=iterations,\n",
    "    ))\n"
   ]
  },
  {
   "cell_type": "code",
   "execution_count": 5,
   "metadata": {},
   "outputs": [
    {
     "data": {
      "text/plain": [
       "tensor(621.76032991, requires_grad=True)"
      ]
     },
     "execution_count": 5,
     "metadata": {},
     "output_type": "execute_result"
    }
   ],
   "source": [
    "results_1[0].history[-1][-1].value\n"
   ]
  },
  {
   "cell_type": "code",
   "execution_count": 6,
   "metadata": {},
   "outputs": [
    {
     "name": "stdout",
     "output_type": "stream",
     "text": [
      "     evaluation    origin_result_1  origin_result_2\n",
      "802   -1.100247  626.1055160962959         4.918794\n",
      "447   -0.936391  618.1404759328673         4.939652\n",
      "108   -0.772750  599.6775646111053         4.936850\n",
      "188   -0.767448  613.2251298777907         4.928168\n",
      "502   -0.678084  624.9685253762724         4.932376\n",
      "..          ...                ...              ...\n",
      "344    0.000000  634.6534396018739         4.934694\n",
      "345    0.000000  615.7502585707216         4.953752\n",
      "346    0.000000  621.9182465970393         4.931080\n",
      "317    0.000000  622.8188344831592         4.954325\n",
      "999    0.000000  606.1460773614117         4.947899\n",
      "\n",
      "[1000 rows x 3 columns]\n"
     ]
    }
   ],
   "source": [
    "import pandas as pd\n",
    "from QHyper.problems import problem_from_config\n",
    "\n",
    "problem = problem_from_config(problem_config)\n",
    "\n",
    "results = pd.DataFrame([\n",
    "    {\n",
    "        'evaluation': weighted_avg_evaluation(\n",
    "            result_1.probabilities,\n",
    "            problem.get_score,\n",
    "            limit_results=20, normalize=True\n",
    "        ),\n",
    "        'origin_result_1': result_1.history[-1][-1].value,\n",
    "        'origin_result_2': result_2.history[-1][-1].value,\n",
    "        # 'origin_result_3': weighted_avg_evaluation(\n",
    "        #     result_1.probabilities,\n",
    "        #     problem.get_score,\n",
    "        #     penalty=penalty+50, normalize=True\n",
    "        # ),\n",
    "    }\n",
    "    for result_1, result_2 in zip(results_1, results_2)\n",
    "])\n",
    "print(results.sort_values('evaluation'))\n"
   ]
  },
  {
   "cell_type": "code",
   "execution_count": 7,
   "metadata": {},
   "outputs": [],
   "source": [
    "def normalize(data):\n",
    "    return (data - np.min(data)) / (np.max(data) - np.min(data))\n"
   ]
  },
  {
   "cell_type": "code",
   "execution_count": 8,
   "metadata": {},
   "outputs": [
    {
     "data": {
      "image/png": "[encoded data removed]",
      "text/plain": [
       "<Figure size 640x480 with 1 Axes>"
      ]
     },
     "metadata": {},
     "output_type": "display_data"
    }
   ],
   "source": [
    "#draw plot where x is evaluation and y is origin_result_1 and origin_result_2 and origin_result_1 is red and origin_result_2 is blue\n",
    "import matplotlib.pyplot as plt\n",
    "\n",
    "def draw(color, res):\n",
    "    plt.scatter(results.evaluation, normalize(res), c=color)\n",
    "    z_1 = np.polyfit(results.evaluation.astype('float'), normalize(res).astype('float'), 1)\n",
    "    # get the polynomial to generate the trendline\n",
    "    p_1 = np.poly1d(z_1)\n",
    "    # add trendline to the plot\n",
    "    plt.plot(results.evaluation, p_1(results.evaluation), f\"{color}--\")\n",
    "\n",
    "\n",
    "draw('r', results.origin_result_1)\n",
    "draw('b', results.origin_result_2)\n",
    "# draw('g', results.origin_result_3)\n",
    "# plt.scatter(results.evaluation, normalize(results.origin_result_1), c='r')\n",
    "# plt.scatter(results.evaluation, normalize(results.origin_result_2), c='b')\n",
    "# z_1 = np.polyfit(results.evaluation.astype('float'), normalize(results.origin_result_1).astype('float'), 1)\n",
    "# # get the polynomial to generate the trendline\n",
    "# p_1 = np.poly1d(z_1)\n",
    "# # add trendline to the plot\n",
    "# plt.plot(results.evaluation, p_1(results.evaluation), \"r--\")\n",
    "\n",
    "# z_2 = np.polyfit(results.evaluation.astype('float'), normalize(results.origin_result_2).astype('float'), 1)\n",
    "# p_2 = np.poly1d(z_2)\n",
    "# plt.plot(results.evaluation, p_2(results.evaluation), \"b--\")\n",
    "plt.xlabel('evaluation')\n",
    "plt.ylabel('normalized circuit result')\n",
    "plt.legend(['qaoa', '', 'wfqaoa', ''])\n",
    "plt.show()\n"
   ]
  },
  {
   "cell_type": "code",
   "execution_count": null,
   "metadata": {},
   "outputs": [],
   "source": []
  }
 ],
 "metadata": {
  "kernelspec": {
   "display_name": "venv",
   "language": "python",
   "name": "python3"
  },
  "language_info": {
   "codemirror_mode": {
    "name": "ipython",
    "version": 3
   },
   "file_extension": ".py",
   "mimetype": "text/x-python",
   "name": "python",
   "nbconvert_exporter": "python",
   "pygments_lexer": "ipython3",
   "version": "3.10.12"
  }
 },
 "nbformat": 4,
 "nbformat_minor": 2
}
