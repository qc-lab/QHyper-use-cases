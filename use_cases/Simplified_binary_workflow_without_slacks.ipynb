{
 "cells": [
  {
   "cell_type": "markdown",
   "id": "9852e256",
   "metadata": {},
   "source": [
    "# QHyper"
   ]
  },
  {
   "cell_type": "markdown",
   "id": "a7d1d81d",
   "metadata": {},
   "source": [
    "opisac z ktorego wzoru korzystalismy - unbalanced penalization"
   ]
  },
  {
   "cell_type": "code",
   "execution_count": 1,
   "metadata": {},
   "outputs": [],
   "source": [
    "hyper_params = {'cost_function_weight': 1, # weight for: cost function\n",
    "               'deadline_linear_form_weight': 2, # weight for: deadline constraint - linear form (-- this is from the unbalanced penalization approach)\n",
    "                'deadline_quadratic_form_weight': 2} # weight for: deadline constraint - quadratic form\n",
    "tasks_file =  \"workflows_data/workflows/3_tasks_4_machines_1_path.json\"\n",
    "machines_file = \"workflows_data/machines/machines_for_3_tasks_4_machines_1_path.json\"\n",
    "deadline = 13\n"
   ]
  },
  {
   "cell_type": "code",
   "execution_count": 2,
   "id": "f9d96cf4",
   "metadata": {},
   "outputs": [],
   "source": [
    "import numpy as np\n",
    "params_config = {\n",
    "        'angles': [[1.9482, 4.2254, 4.1086, 5.7801, 4.1416, 3.8738],\n",
    "                   [0.9043, 2.5178, 1.7931, 2.4655, 1.3755, 1.0457]], # QAOA angles - first we have gammas (for the cost Hamiltonian), then we have betas (for the mixer)\n",
    "        'hyper_args': [hyper_params['cost_function_weight'],\n",
    "                       hyper_params['deadline_linear_form_weight'],\n",
    "                       hyper_params['deadline_quadratic_form_weight']\n",
    "                       ],\n",
    "    }\n"
   ]
  },
  {
   "cell_type": "code",
   "execution_count": 3,
   "id": "8dbdf752",
   "metadata": {},
   "outputs": [],
   "source": [
    "from QHyper.solvers import VQA, solver_from_config\n",
    "\n",
    "solver_config = {\n",
    "    \"solver\": {\n",
    "        \"type\": \"vqa\",\n",
    "        \"pqc\": {\n",
    "            \"type\": \"qml_qaoa\",\n",
    "            \"layers\": 6,\n",
    "            \"optimizer\": \"qng\",\n",
    "            \"optimizer_args\": {\n",
    "                \"stepsize\": 0.00045,\n",
    "                \"steps\": 50,\n",
    "                \"verbose\": True,\n",
    "            },\n",
    "            \"backend\": \"default.qubit\",\n",
    "        },\n",
    "        \"params_inits\": params_config\n",
    "    },\n",
    "    \"problem\": {\n",
    "        \"type\": \"workflow_scheduling\",\n",
    "        \"encoding\": \"binary\",\n",
    "        \"tasks_file\": tasks_file,\n",
    "        \"machines_file\": machines_file,\n",
    "        \"deadline\": deadline,\n",
    "    }\n",
    "}\n",
    "\n",
    "vqa = solver_from_config(solver_config)\n"
   ]
  },
  {
   "cell_type": "code",
   "execution_count": 4,
   "id": "d5baf644",
   "metadata": {},
   "outputs": [
    {
     "name": "stdout",
     "output_type": "stream",
     "text": [
      "Step 1/50: 395.1869821406802\n",
      "Step 2/50: 306.0307396542468\n",
      "Step 3/50: 273.516893666911\n",
      "Step 4/50: 260.59405657349856\n",
      "Step 5/50: 254.23033677722174\n",
      "Step 6/50: 250.4092605457856\n",
      "Step 7/50: 247.71784774086015\n",
      "Step 8/50: 245.5733611996601\n",
      "Step 9/50: 243.70799684044817\n",
      "Step 10/50: 241.99267922031174\n",
      "Step 11/50: 240.36469553751607\n",
      "Step 12/50: 238.79426110970306\n",
      "Step 13/50: 237.2682276921241\n",
      "Step 14/50: 235.7818761093793\n",
      "Step 15/50: 234.33460263789866\n",
      "Step 16/50: 232.92750583163303\n",
      "Step 17/50: 231.56193222983867\n",
      "Step 18/50: 230.23854994315752\n",
      "Step 19/50: 228.95676592924283\n",
      "Step 20/50: 227.714417301782\n",
      "Step 21/50: 226.5077121697547\n",
      "Step 22/50: 225.3314033012392\n",
      "Step 23/50: 224.17916719642398\n",
      "Step 24/50: 223.04414451784245\n",
      "Step 25/50: 221.91958339019075\n",
      "Step 26/50: 220.7995188945179\n",
      "Step 27/50: 219.67942078233082\n",
      "Step 28/50: 218.55674566918606\n",
      "Step 29/50: 217.43133804809992\n",
      "Step 30/50: 216.30563553514494\n",
      "Step 31/50: 215.1846481413903\n",
      "Step 32/50: 214.07569997914555\n",
      "Step 33/50: 212.98794503910952\n",
      "Step 34/50: 211.93169525297648\n",
      "Step 35/50: 210.9176254299437\n",
      "Step 36/50: 209.95594042932663\n",
      "Step 37/50: 209.0555993030664\n",
      "Step 38/50: 208.2236850332503\n",
      "Step 39/50: 207.46498647671137\n",
      "Step 40/50: 206.78182522994337\n",
      "Step 41/50: 206.17412188671275\n",
      "Step 42/50: 205.6396622706411\n",
      "Step 43/50: 205.17450167744272\n",
      "Step 44/50: 204.77343717690303\n",
      "Step 45/50: 204.4304835731528\n",
      "Step 46/50: 204.13930354563783\n",
      "Step 47/50: 203.89356140589993\n",
      "Step 48/50: 203.68718804408687\n",
      "Step 49/50: 203.51455891762916\n",
      "Step 50/50: 203.37059616376317\n"
     ]
    }
   ],
   "source": [
    "solver_results = vqa.solve()\n"
   ]
  },
  {
   "cell_type": "code",
   "execution_count": 5,
   "id": "dc368439",
   "metadata": {},
   "outputs": [
    {
     "name": "stdout",
     "output_type": "stream",
     "text": [
      "Best params: {'angles': tensor([[1.94824404, 4.22606355, 4.10783934, 5.78004543, 4.14199089,\n",
      "         3.87371591],\n",
      "        [0.87116674, 2.61620323, 1.70712985, 2.43543308, 1.26776386,\n",
      "         0.88477619]], requires_grad=True), 'hyper_args': tensor([1, 2, 2], requires_grad=True)}\n"
     ]
    }
   ],
   "source": [
    "print(f\"Best params: {solver_results.params}\")\n"
   ]
  },
  {
   "cell_type": "code",
   "execution_count": 6,
   "id": "f4710450",
   "metadata": {},
   "outputs": [
    {
     "name": "stdout",
     "output_type": "stream",
     "text": [
      "Evaluation:\n",
      "16.09368696345939\n",
      "Sort results:\n",
      "Result: 000001, Prob: 0.23369, Evaluation: 25.0\n",
      "Result: 000101, Prob: 0.043394, Evaluation: 26.0\n",
      "Result: 101001, Prob: 0.037332, Evaluation: 28.0\n",
      "Result: 011010, Prob: 0.037254, Evaluation: 28.0\n",
      "Result: 111101, Prob: 0.036207, Evaluation: 0\n",
      "Result: 100101, Prob: 0.03569, Evaluation: 28.0\n",
      "Result: 101101, Prob: 0.028978, Evaluation: 0\n",
      "Result: 011101, Prob: 0.027494, Evaluation: 0\n",
      "Result: 110001, Prob: 0.026161, Evaluation: 0\n",
      "Result: 000010, Prob: 0.02585, Evaluation: 0\n",
      "Result: 010101, Prob: 0.025357, Evaluation: 28.0\n",
      "Result: 111001, Prob: 0.023499, Evaluation: 0\n",
      "Result: 100001, Prob: 0.023403, Evaluation: 27.0\n",
      "Result: 010001, Prob: 0.022452, Evaluation: 27.0\n",
      "Result: 010100, Prob: 0.022427, Evaluation: 0\n",
      "Result: 010111, Prob: 0.022149, Evaluation: 0\n",
      "Result: 011110, Prob: 0.020162, Evaluation: 0\n",
      "Result: 001010, Prob: 0.019498, Evaluation: 0\n",
      "Result: 101010, Prob: 0.017514, Evaluation: 0\n",
      "Result: 010000, Prob: 0.017514, Evaluation: 0\n"
     ]
    }
   ],
   "source": [
    "from QHyper.util import (\n",
    "    weighted_avg_evaluation, sort_solver_results, add_evaluation_to_results)\n",
    "\n",
    "# Evaluate results with weighted average evaluation\n",
    "print(\"Evaluation:\")\n",
    "print(weighted_avg_evaluation(\n",
    "    solver_results.probabilities, vqa.problem.get_score,\n",
    "    penalty=0, limit_results=20, normalize=True\n",
    "))\n",
    "print(\"Sort results:\")\n",
    "sorted_results = sort_solver_results(\n",
    "    solver_results.probabilities, limit_results=20)\n",
    "\n",
    "# Add evaluation to results\n",
    "results_with_evaluation = add_evaluation_to_results(\n",
    "    sorted_results, vqa.problem.get_score, penalty=0)\n",
    "\n",
    "for result, (probability, evaluation) in results_with_evaluation.items():\n",
    "    print(f\"Result: {result}, \"\n",
    "          f\"Prob: {probability:.5}, \"\n",
    "          f\"Evaluation: {evaluation}\")\n"
   ]
  },
  {
   "cell_type": "code",
   "execution_count": 7,
   "id": "554606e3",
   "metadata": {},
   "outputs": [
    {
     "data": {
      "text/plain": [
       "<Axes: xlabel='index', ylabel='value'>"
      ]
     },
     "execution_count": 7,
     "metadata": {},
     "output_type": "execute_result"
    },
    {
     "data": {
      "image/png": "[encoded data removed]",
      "text/plain": [
       "<Figure size 640x480 with 1 Axes>"
      ]
     },
     "metadata": {},
     "output_type": "display_data"
    }
   ],
   "source": [
    "import pandas as pd\n",
    "\n",
    "pd.DataFrame(solver_results.history[0]).reset_index().plot(x='index',y='value', kind='scatter')\n"
   ]
  },
  {
   "cell_type": "code",
   "execution_count": 8,
   "id": "cf32337e",
   "metadata": {},
   "outputs": [],
   "source": [
    "solver_config = {\n",
    "    \"solver\": {\n",
    "        \"type\": \"cqm\",\n",
    "        \"time\": 13,\n",
    "        \"params_inits\": params_config\n",
    "    },\n",
    "    \"problem\": {\n",
    "        \"type\": \"workflow_scheduling\",\n",
    "        \"encoding\": \"one-hot\",\n",
    "        \"tasks_file\": tasks_file,\n",
    "        \"machines_file\": machines_file,\n",
    "        \"deadline\": deadline,\n",
    "    }\n",
    "}\n",
    "\n",
    "cqm = solver_from_config(solver_config)\n"
   ]
  },
  {
   "cell_type": "code",
   "execution_count": 9,
   "metadata": {},
   "outputs": [
    {
     "ename": "TypeError",
     "evalue": "'Expression' object is not iterable",
     "output_type": "error",
     "traceback": [
      "\u001b[0;31m---------------------------------------------------------------------------\u001b[0m",
      "\u001b[0;31mTypeError\u001b[0m                                 Traceback (most recent call last)",
      "\u001b[1;32m/home/tmek1244/cyfronet/QHyper/demo/Simplified_binary_workflow_without_slacks.ipynb Cell 11\u001b[0m line \u001b[0;36m1\n\u001b[0;32m----> <a href='vscode-notebook-cell:/home/tmek1244/cyfronet/QHyper/demo/Simplified_binary_workflow_without_slacks.ipynb#X13sZmlsZQ%3D%3D?line=0'>1</a>\u001b[0m cqm\u001b[39m.\u001b[39;49msolve()\n",
      "File \u001b[0;32m~/cyfronet/QHyper/demo/QHyper/solvers/cqm/cqm.py:62\u001b[0m, in \u001b[0;36mCQM.solve\u001b[0;34m(self, params_inits)\u001b[0m\n\u001b[1;32m     59\u001b[0m params_inits \u001b[39m=\u001b[39m params_inits \u001b[39mor\u001b[39;00m \u001b[39mself\u001b[39m\u001b[39m.\u001b[39mparams_inits\n\u001b[1;32m     61\u001b[0m converter \u001b[39m=\u001b[39m Converter()\n\u001b[0;32m---> 62\u001b[0m cqm \u001b[39m=\u001b[39m converter\u001b[39m.\u001b[39;49mto_cqm(\u001b[39mself\u001b[39;49m\u001b[39m.\u001b[39;49mproblem)\n\u001b[1;32m     63\u001b[0m sampler \u001b[39m=\u001b[39m LeapHybridCQMSampler(token\u001b[39m=\u001b[39mDWAVE_API_TOKEN)\n\u001b[1;32m     64\u001b[0m solutions \u001b[39m=\u001b[39m sampler\u001b[39m.\u001b[39msample_cqm(cqm, \u001b[39mself\u001b[39m\u001b[39m.\u001b[39mtime)\n",
      "File \u001b[0;32m~/cyfronet/QHyper/demo/QHyper/solvers/converter.py:205\u001b[0m, in \u001b[0;36mConverter.to_cqm\u001b[0;34m(problem)\u001b[0m\n\u001b[1;32m    203\u001b[0m \u001b[39m@staticmethod\u001b[39m\n\u001b[1;32m    204\u001b[0m \u001b[39mdef\u001b[39;00m \u001b[39mto_cqm\u001b[39m(problem: Problem) \u001b[39m-\u001b[39m\u001b[39m>\u001b[39m ConstrainedQuadraticModel:\n\u001b[0;32m--> 205\u001b[0m     binary_polynomial \u001b[39m=\u001b[39m dimod\u001b[39m.\u001b[39;49mBinaryPolynomial(\n\u001b[1;32m    206\u001b[0m         problem\u001b[39m.\u001b[39;49mobjective_function, dimod\u001b[39m.\u001b[39;49mBINARY\n\u001b[1;32m    207\u001b[0m     )\n\u001b[1;32m    208\u001b[0m     cqm \u001b[39m=\u001b[39m dimod\u001b[39m.\u001b[39mmake_quadratic_cqm(binary_polynomial)\n\u001b[1;32m    210\u001b[0m     \u001b[39m# todo this cqm can probably be initialized in some other way\u001b[39;00m\n",
      "File \u001b[0;32m~/cyfronet/QHyper/venv/lib/python3.10/site-packages/dimod/decorators.py:212\u001b[0m, in \u001b[0;36mvartype_argument.<locals>._vartype_arg.<locals>.new_f\u001b[0;34m(*args, **kwargs)\u001b[0m\n\u001b[1;32m    209\u001b[0m \u001b[39mfor\u001b[39;00m name \u001b[39min\u001b[39;00m arg_names:\n\u001b[1;32m    210\u001b[0m     _enforce_single_arg(name, final_args, final_kwargs)\n\u001b[0;32m--> 212\u001b[0m \u001b[39mreturn\u001b[39;00m f(\u001b[39m*\u001b[39;49mfinal_args, \u001b[39m*\u001b[39;49m\u001b[39m*\u001b[39;49mfinal_kwargs)\n",
      "File \u001b[0;32m~/cyfronet/QHyper/venv/lib/python3.10/site-packages/dimod/higherorder/polynomial.py:96\u001b[0m, in \u001b[0;36mBinaryPolynomial.__init__\u001b[0;34m(self, poly, vartype)\u001b[0m\n\u001b[1;32m     94\u001b[0m \u001b[39m# we need to aggregate the repeated terms\u001b[39;00m\n\u001b[1;32m     95\u001b[0m \u001b[39mself\u001b[39m\u001b[39m.\u001b[39m_terms \u001b[39m=\u001b[39m terms \u001b[39m=\u001b[39m {}\n\u001b[0;32m---> 96\u001b[0m \u001b[39mfor\u001b[39;00m term, bias \u001b[39min\u001b[39;00m poly:\n\u001b[1;32m     98\u001b[0m     fsterm \u001b[39m=\u001b[39m asfrozenset(term)\n\u001b[1;32m    100\u001b[0m     \u001b[39m# when SPIN-valued, s^2 == 1, so we need to handle that case\u001b[39;00m\n\u001b[1;32m    101\u001b[0m     \u001b[39m# in BINARY, x^2 == x\u001b[39;00m\n",
      "\u001b[0;31mTypeError\u001b[0m: 'Expression' object is not iterable"
     ]
    }
   ],
   "source": [
    "cqm.solve()\n"
   ]
  },
  {
   "cell_type": "code",
   "execution_count": null,
   "metadata": {},
   "outputs": [],
   "source": []
  }
 ],
 "metadata": {
  "celltoolbar": "Raw Cell Format",
  "kernelspec": {
   "display_name": "Python 3 (ipykernel)",
   "language": "python",
   "name": "python3"
  },
  "language_info": {
   "codemirror_mode": {
    "name": "ipython",
    "version": 3
   },
   "file_extension": ".py",
   "mimetype": "text/x-python",
   "name": "python",
   "nbconvert_exporter": "python",
   "pygments_lexer": "ipython3",
   "version": "3.10.12"
  }
 },
 "nbformat": 4,
 "nbformat_minor": 5
}
