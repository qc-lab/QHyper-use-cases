{
 "cells": [
  {
   "attachments": {},
   "cell_type": "markdown",
   "metadata": {},
   "source": [
    "## QHyper usecase"
   ]
  },
  {
   "attachments": {},
   "cell_type": "markdown",
   "metadata": {},
   "source": [
    "### Create instance of problem"
   ]
  },
  {
   "cell_type": "code",
   "execution_count": 1,
   "metadata": {},
   "outputs": [],
   "source": [
    "from QHyper.problems import KnapsackProblem, TSPProblem\n",
    "\n",
    "PROBLEM_TYPE = 'knapsack' # 'tsp'\n",
    "\n",
    "\n",
    "# Each problem needs different parameters, because it depends on the number\n",
    "# of variables and constraints\n",
    "# Number of hyper_optimizer_bounds depends on the number of constraints,\n",
    "# because each constraint requires one weights, and objective function also\n",
    "# requires one\n",
    "\n",
    "if PROBLEM_TYPE == 'knapsack':\n",
    "    # Create knapsack with 3 items: 2 with weights 1 and\n",
    "    # value 2 - (1, 2), and one with weight 1 and value 1 - (1, 1)\n",
    "    problem = KnapsackProblem(max_weight=2, items=[(1, 2), (1, 2),(1, 1)])\n",
    "\n",
    "    problem_config = {  # This is going to be used later\n",
    "        'type': 'knapsack',\n",
    "        'max_weight': 2,\n",
    "        'items': [(1, 2), (1, 2),(1, 1)]\n",
    "    }\n",
    "\n",
    "    params_config = {\n",
    "        'angles': [[0.5]*5, [1]*5],\n",
    "        'hyper_args': [1, 2.5, 2.5],\n",
    "    }\n",
    "    hyper_optimizer_bounds = 3*[(1, 10)]\n",
    "    penalty = 2\n",
    "\n",
    "elif PROBLEM_TYPE == 'tsp':\n",
    "    # Create Traveling Salesmam Problem with 3 cities\n",
    "    problem = TSPProblem(number_of_cities=3)\n",
    "\n",
    "    problem_config = {  # This is going to be used later\n",
    "        'type': 'tsp',\n",
    "        'number_of_cities': 3,\n",
    "    }\n",
    "\n",
    "    params_config = {\n",
    "        'angles': [[0.5]*5, [1]*5],\n",
    "        'hyper_args': [1, 2, 2, 2, 2],\n",
    "    }\n",
    "    hyper_optimizer_bounds = 5*[(1, 10)]\n",
    "    penalty = -1\n"
   ]
  },
  {
   "cell_type": "code",
   "execution_count": 2,
   "metadata": {},
   "outputs": [
    {
     "name": "stdout",
     "output_type": "stream",
     "text": [
      "Variables used to describe objective functionand constraints: (x0, x1, x2, x3, x4)\n",
      "Objective function: Polynomial(terms=defaultdict(<class 'float'>, {('x0',): -2.0, ('x1',): -2.0, ('x2',): -1.0}))\n",
      "Constraints:\n",
      "    Polynomial(terms=defaultdict(<class 'float'>, {('x3',): -1.0, ('x4',): -1.0, (): 1.0})) == Polynomial(terms=defaultdict(<class 'float'>, {}))\n",
      "    Polynomial(terms=defaultdict(<class 'float'>, {('x0',): -1.0, ('x1',): -1.0, ('x2',): -1.0, ('x3',): 1.0, ('x4',): 2.0})) == Polynomial(terms=defaultdict(<class 'float'>, {}))\n"
     ]
    }
   ],
   "source": [
    "print(f\"Variables used to describe objective function\"\n",
    "      f\"and constraints: {problem.variables}\")\n",
    "print(f\"Objective function: {problem.objective_function}\")\n",
    "print(\"Constraints:\")\n",
    "for constraint in problem.constraints:\n",
    "    print(f\"    {constraint}\")\n"
   ]
  },
  {
   "attachments": {},
   "cell_type": "markdown",
   "metadata": {},
   "source": [
    "### Use VQA to solve knapsack problem"
   ]
  },
  {
   "cell_type": "code",
   "execution_count": 3,
   "metadata": {},
   "outputs": [],
   "source": [
    "# Create a VQA instance with HQAOA as PQC and scipy optimizer\n",
    "# This can be done in two various way\n",
    "# 1. Providing dict with config (usefull to save experiment confing in e.g JSON)\n",
    "from QHyper.solvers import solver_from_config\n",
    "from numpy import pi\n",
    "\n",
    "# While we could use problem instace to create solver, the better approach\n",
    "# is to use config, because it is easier to save it in JSON file and load it later\n",
    "\n",
    "solver_config = {\n",
    "    \"solver\": {\n",
    "        \"type\": \"vqa\",\n",
    "        \"optimizer\": {\n",
    "            \"type\": \"scipy\",\n",
    "            \"maxfun\": 200,\n",
    "            \"bounds\": [(0, 2 * pi)] * 10\n",
    "        },\n",
    "        \"pqc\": {\n",
    "            \"type\": \"wfqaoa\",\n",
    "            \"layers\": 5,\n",
    "            \"limit_results\": 20,\n",
    "            \"penalty\": penalty,\n",
    "            \"backend\": \"default.qubit\",\n",
    "        },\n",
    "        \"params_inits\": params_config\n",
    "    },\n",
    "    \"problem\": problem_config\n",
    "}\n",
    "\n",
    "vqa = solver_from_config(solver_config)\n",
    "\n",
    "# # 2. Providing actual isntance of each class like VQA and Optimizer\n",
    "# NOT RECOMMENDED\n",
    "\n",
    "# from QHyper.solvers.vqa import VQA\n",
    "# from QHyper.solvers.vqa.pqc import HQAOA\n",
    "# from QHyper.optimizers import ScipyOptimizer\n",
    "\n",
    "# vqa = VQA(problem, HQAOA(layers=5, penalty=penalty, backend='default.qubit'),\n",
    "#           ScipyOptimizer(maxfun=200))\n"
   ]
  },
  {
   "cell_type": "code",
   "execution_count": 4,
   "metadata": {},
   "outputs": [
    {
     "name": "stdout",
     "output_type": "stream",
     "text": [
      "Solver results:\n",
      "Probabilities: {'00000': 0.0732912838324004, '00001': 0.01812365507384847, '00010': 0.05407207652748644, '00011': 0.0701062245930107, '00100': 0.017498889261866067, '00101': 0.009292651366578255, '00110': 0.050293202934572685, '00111': 0.016844666311210565, '01000': 0.046624559969783416, '01001': 0.009582944060964814, '01010': 0.04374581517898236, '01011': 0.007336159588485337, '01100': 0.010700779894629564, '01101': 0.07661867874108277, '01110': 0.007507066502992263, '01111': 0.023008509073494634, '10000': 0.04662455996978336, '10001': 0.0095829440609648, '10010': 0.04374581517898232, '10011': 0.00733615958848532, '10100': 0.010700779894629532, '10101': 0.07661867874108272, '10110': 0.00750706650299228, '10111': 0.02300850907349465, '11000': 0.02873850917070903, '11001': 0.06522050516274285, '11010': 0.01700164098761874, '11011': 0.02196157538990109, '11100': 0.035843090675343484, '11101': 0.014437271029358385, '11110': 0.002494804987010662, '11111': 0.054530926675500725}\n",
      "Best params: {'angles': array([4.77452593, 3.29033494, 0.85409721, 2.25547951, 5.960884  ,\n",
      "       1.64590219, 0.48733654, 0.26765959, 0.03158379, 3.06768805]), 'hyper_args': array([1. , 2.5, 2.5])}\n"
     ]
    }
   ],
   "source": [
    "# Run VQA with provided initial parameters\n",
    "solver_results = vqa.solve()\n",
    "\n",
    "print(\"Solver results:\")\n",
    "print(f\"Probabilities: {solver_results.probabilities}\")\n",
    "print(f\"Best params: {solver_results.params}\")\n"
   ]
  },
  {
   "cell_type": "code",
   "execution_count": 5,
   "metadata": {},
   "outputs": [
    {
     "name": "stdout",
     "output_type": "stream",
     "text": [
      "Evaluation:\n",
      "-1.2555153432454813\n",
      "Sort results:\n",
      "Result: 01101, Prob: 0.076619, Evaluation: -3\n",
      "Result: 10101, Prob: 0.076619, Evaluation: -3\n",
      "Result: 00000, Prob: 0.073291, Evaluation: 0\n",
      "Result: 00011, Prob: 0.070106, Evaluation: 2\n",
      "Result: 11001, Prob: 0.065221, Evaluation: -4\n",
      "Result: 11111, Prob: 0.054531, Evaluation: 2\n",
      "Result: 00010, Prob: 0.054072, Evaluation: 2\n",
      "Result: 00110, Prob: 0.050293, Evaluation: -1\n",
      "Result: 01000, Prob: 0.046625, Evaluation: 2\n",
      "Result: 10000, Prob: 0.046625, Evaluation: 2\n"
     ]
    }
   ],
   "source": [
    "from QHyper.util import (\n",
    "    weighted_avg_evaluation, sort_solver_results, add_evaluation_to_results)\n",
    "\n",
    "# Evaluate results with weighted average evaluation\n",
    "print(\"Evaluation:\")\n",
    "print(weighted_avg_evaluation(\n",
    "    solver_results.probabilities, problem.get_score,\n",
    "    penalty=0, limit_results=10, normalize=True\n",
    "))\n",
    "print(\"Sort results:\")\n",
    "sorted_results = sort_solver_results(\n",
    "    solver_results.probabilities, limit_results=10)\n",
    "\n",
    "# Add evaluation to results\n",
    "results_with_evaluation = add_evaluation_to_results(\n",
    "    sorted_results, problem.get_score, penalty=penalty)\n",
    "\n",
    "for result, (probability, evaluation) in results_with_evaluation.items():\n",
    "    print(f\"Result: {result}, \"\n",
    "          f\"Prob: {probability:.5}, \"\n",
    "          f\"Evaluation: {evaluation}\")\n"
   ]
  },
  {
   "attachments": {},
   "cell_type": "markdown",
   "metadata": {},
   "source": [
    "#### Using hyper optimizers"
   ]
  },
  {
   "cell_type": "code",
   "execution_count": 6,
   "metadata": {},
   "outputs": [],
   "source": [
    "# Additionally other optimizer can be used to tune some parameters, in below\n",
    "# example, Random optimzier will change weights (hyper_args) and choose ones\n",
    "# that gives the best results after runnign 200 iteration of scipy minimizer\n",
    "\n",
    "solver_config = {\n",
    "    \"solver\": {\n",
    "        \"type\": \"vqa\",\n",
    "        \"optimizer\": {\n",
    "            \"type\": \"scipy\",\n",
    "            \"maxfun\": 200,\n",
    "            \"bounds\": [(0, 2 * pi)] * 10\n",
    "        },\n",
    "        \"pqc\": {\n",
    "            \"type\": \"wfqaoa\",\n",
    "            \"layers\": 5,\n",
    "            \"limit_results\": 20,\n",
    "            \"penalty\": penalty,\n",
    "        },\n",
    "        \"params_inits\": params_config,\n",
    "        \"hyper_optimizer\": {\n",
    "            \"type\": \"random\",\n",
    "            \"processes\": 5,\n",
    "            \"number_of_samples\": 100,\n",
    "            \"bounds\": hyper_optimizer_bounds,\n",
    "        }\n",
    "    },\n",
    "    \"problem\": problem_config\n",
    "}\n",
    "vqa = solver_from_config(solver_config)\n"
   ]
  },
  {
   "cell_type": "code",
   "execution_count": 7,
   "metadata": {},
   "outputs": [
    {
     "name": "stdout",
     "output_type": "stream",
     "text": [
      "Solver results:\n",
      "Probabilities: {'00000': 0.036215643738056184, '00001': 0.009732461820058054, '00010': 0.01512752159177665, '00011': 0.004898970085671026, '00100': 0.009811070774507602, '00101': 0.009995230222961251, '00110': 0.17020709388664948, '00111': 0.009835147114974447, '01000': 0.009633808259437516, '01001': 6.551348341363583e-05, '01010': 0.06818393104282872, '01011': 0.0032310466245177418, '01100': 0.008494761842195329, '01101': 0.13505509463529042, '01110': 0.01678625146275098, '01111': 0.01106622875202749, '10000': 0.00963380825943751, '10001': 6.551348341363564e-05, '10010': 0.06818393104282863, '10011': 0.0032310466245177435, '10100': 0.00849476184219533, '10101': 0.13505509463529033, '10110': 0.01678625146275097, '10111': 0.011066228752027488, '11000': 0.018086704657015597, '11001': 0.14481572304362988, '11010': 0.005243829793381593, '11011': 0.013867749560177636, '11100': 0.009298811833917654, '11101': 0.0028672422311025393, '11110': 0.010112918453326875, '11111': 0.024850608987859454}\n",
      "Best params: {'angles': array([0.49277451, 0.49510459, 0.51749707, 0.52209666, 0.48609426,\n",
      "       1.00992149, 1.0088181 , 1.01201309, 0.99153701, 0.99787831]), 'hyper_args': array([6.02040093, 2.34412237, 9.16712003])}\n"
     ]
    }
   ],
   "source": [
    "solver_results = vqa.solve()\n",
    "\n",
    "print(\"Solver results:\")\n",
    "print(f\"Probabilities: {solver_results.probabilities}\")\n",
    "print(f\"Best params: {solver_results.params}\")\n"
   ]
  },
  {
   "cell_type": "code",
   "execution_count": 8,
   "metadata": {},
   "outputs": [
    {
     "name": "stdout",
     "output_type": "stream",
     "text": [
      "Evaluation:\n",
      "-2.241798915063301\n",
      "Sort results:\n",
      "Result: 00110, Prob: 0.17021, Evaluation: -1\n",
      "Result: 11001, Prob: 0.14482, Evaluation: -4\n",
      "Result: 01101, Prob: 0.13506, Evaluation: -3\n",
      "Result: 10101, Prob: 0.13506, Evaluation: -3\n",
      "Result: 01010, Prob: 0.068184, Evaluation: -2\n",
      "Result: 10010, Prob: 0.068184, Evaluation: -2\n",
      "Result: 00000, Prob: 0.036216, Evaluation: 0\n",
      "Result: 11111, Prob: 0.024851, Evaluation: 2\n",
      "Result: 11000, Prob: 0.018087, Evaluation: 2\n",
      "Result: 01110, Prob: 0.016786, Evaluation: 2\n"
     ]
    }
   ],
   "source": [
    "print(\"Evaluation:\")\n",
    "print(weighted_avg_evaluation(\n",
    "    solver_results.probabilities, problem.get_score,\n",
    "    penalty=0, limit_results=10, normalize=True\n",
    "))\n",
    "print(\"Sort results:\")\n",
    "sorted_results = sort_solver_results(\n",
    "    solver_results.probabilities, limit_results=10)\n",
    "\n",
    "results_with_evaluation = add_evaluation_to_results(\n",
    "    sorted_results, problem.get_score, penalty=penalty)\n",
    "\n",
    "for result, (probability, evaluation) in results_with_evaluation.items():\n",
    "    print(f\"Result: {result}, \"\n",
    "          f\"Prob: {probability:.5}, \"\n",
    "          f\"Evaluation: {evaluation}\")\n"
   ]
  }
 ],
 "metadata": {
  "kernelspec": {
   "display_name": "Python 3.10.6 ('venv': venv)",
   "language": "python",
   "name": "python3"
  },
  "language_info": {
   "codemirror_mode": {
    "name": "ipython",
    "version": 3
   },
   "file_extension": ".py",
   "mimetype": "text/x-python",
   "name": "python",
   "nbconvert_exporter": "python",
   "pygments_lexer": "ipython3",
   "version": "3.10.12"
  },
  "orig_nbformat": 4,
  "vscode": {
   "interpreter": {
    "hash": "59ddf9d140262b8237ab82f293175fe16bdb83dcbb2d03089c8be0234363df8c"
   }
  }
 },
 "nbformat": 4,
 "nbformat_minor": 2
}
