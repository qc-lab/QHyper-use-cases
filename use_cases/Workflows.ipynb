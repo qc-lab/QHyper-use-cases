{
 "cells": [
  {
   "cell_type": "markdown",
   "id": "9852e256",
   "metadata": {},
   "source": [
    "# QHyper"
   ]
  },
  {
   "cell_type": "markdown",
   "id": "a7d1d81d",
   "metadata": {},
   "source": [
    "opisac z ktorego wzoru korzystalismy - unbalanced penalization"
   ]
  },
  {
   "cell_type": "code",
   "execution_count": 1,
   "id": "382f6283",
   "metadata": {},
   "outputs": [],
   "source": [
    "hyper_params = {'cost_function_weight': 1, # weight for: cost function\n",
    "               'deadline_linear_form_weight': 2, # weight for: deadline constraint - linear form (-- this is from the unbalanced penalization approach)\n",
    "                'deadline_quadratic_form_weight': 2} # weight for: deadline constraint - quadratic form\n",
    "\n",
    "tasks_file =  \"workflows_data/workflows/3_tasks_1_path.json\"\n",
    "machines_file = \"workflows_data/machines/4_machines.json\"\n",
    "deadline = 13"
   ]
  },
  {
   "cell_type": "code",
   "execution_count": 2,
   "id": "f9d96cf4",
   "metadata": {},
   "outputs": [],
   "source": [
    "import numpy as np\n",
    "params_config = {\n",
    "        'angles': [[1.9482, 4.2254, 4.1086, 5.7801, 4.1416, 3.8738],\n",
    "                   [0.9043, 2.5178, 1.7931, 2.4655, 1.3755, 1.0457]], # QAOA angles - first we have gammas (for the cost Hamiltonian), then we have betas (for the mixer)\n",
    "        'hyper_args': [hyper_params['cost_function_weight'],\n",
    "                       hyper_params['deadline_linear_form_weight'],\n",
    "                       hyper_params['deadline_quadratic_form_weight']\n",
    "                       ],\n",
    "    }\n"
   ]
  },
  {
   "cell_type": "code",
   "execution_count": 3,
   "id": "8dbdf752",
   "metadata": {},
   "outputs": [],
   "source": [
    "from QHyper.solvers import VQA, solver_from_config\n",
    "\n",
    "solver_config = {\n",
    "    \"solver\": {\n",
    "        \"type\": \"vqa\",\n",
    "        \"pqc\": {\n",
    "            \"type\": \"qml_qaoa\",\n",
    "            \"layers\": 6,\n",
    "            \"optimizer\": \"qng\",\n",
    "            \"optimizer_args\": {\n",
    "                \"stepsize\": 0.00045,\n",
    "                \"steps\": 50,\n",
    "                \"verbose\": True,\n",
    "            },\n",
    "            \"backend\": \"default.qubit\",\n",
    "        },\n",
    "        \"params_inits\": params_config\n",
    "    },\n",
    "    \"problem\": {\n",
    "        \"type\": \"workflow_scheduling\",\n",
    "        \"encoding\": \"binary\",\n",
    "        \"tasks_file\": tasks_file,\n",
    "        \"machines_file\": machines_file,\n",
    "        \"deadline\": deadline,\n",
    "    }\n",
    "}\n",
    "\n",
    "vqa = solver_from_config(solver_config)\n"
   ]
  },
  {
   "cell_type": "code",
   "execution_count": 4,
   "id": "d5baf644",
   "metadata": {},
   "outputs": [
    {
     "name": "stdout",
     "output_type": "stream",
     "text": [
      "Step 1/5: 395.1869821406809\n",
      "Step 2/5: 306.0307396542473\n",
      "Step 3/5: 273.5168936669108\n",
      "Step 4/5: 260.5940565735004\n",
      "Step 5/5: 254.2303367772227\n"
     ]
    }
   ],
   "source": [
    "solver_results = vqa.solve()\n"
   ]
  },
  {
   "cell_type": "code",
   "execution_count": 5,
   "id": "dc368439",
   "metadata": {},
   "outputs": [
    {
     "name": "stdout",
     "output_type": "stream",
     "text": [
      "Best params: {'angles': tensor([[1.94830641, 4.22569353, 4.10850683, 5.78035342, 4.14177545,\n",
      "         3.87375865],\n",
      "        [0.92337163, 2.59962038, 1.70456512, 2.46701915, 1.28996485,\n",
      "         1.03227991]], requires_grad=True), 'hyper_args': tensor([1, 2, 2], requires_grad=True)}\n"
     ]
    }
   ],
   "source": [
    "print(f\"Best params: {solver_results.params}\")\n"
   ]
  },
  {
   "cell_type": "code",
   "execution_count": 6,
   "id": "f4710450",
   "metadata": {},
   "outputs": [
    {
     "name": "stdout",
     "output_type": "stream",
     "text": [
      "Evaluation:\n",
      "14.7207946405549\n",
      "Sort results:\n",
      "Result: 000001, Prob: 0.2447, Evaluation: 25.0\n",
      "Result: 100001, Prob: 0.063256, Evaluation: 27.0\n",
      "Result: 110101, Prob: 0.058891, Evaluation: 0\n",
      "Result: 100110, Prob: 0.036812, Evaluation: 28.0\n",
      "Result: 010100, Prob: 0.035484, Evaluation: 0\n",
      "Result: 010001, Prob: 0.034757, Evaluation: 27.0\n",
      "Result: 011000, Prob: 0.033965, Evaluation: 0\n",
      "Result: 000010, Prob: 0.032409, Evaluation: 0\n",
      "Result: 011010, Prob: 0.031455, Evaluation: 28.0\n",
      "Result: 000101, Prob: 0.031388, Evaluation: 26.0\n",
      "Result: 111010, Prob: 0.027741, Evaluation: 0\n",
      "Result: 011101, Prob: 0.022341, Evaluation: 0\n",
      "Result: 111101, Prob: 0.022094, Evaluation: 0\n",
      "Result: 111001, Prob: 0.019801, Evaluation: 0\n",
      "Result: 011111, Prob: 0.017698, Evaluation: 0\n",
      "Result: 100111, Prob: 0.0163, Evaluation: 0\n",
      "Result: 110010, Prob: 0.013515, Evaluation: 0\n",
      "Result: 001010, Prob: 0.012745, Evaluation: 0\n",
      "Result: 111000, Prob: 0.012702, Evaluation: 0\n",
      "Result: 000111, Prob: 0.012566, Evaluation: 0\n"
     ]
    }
   ],
   "source": [
    "from QHyper.util import (\n",
    "    weighted_avg_evaluation, sort_solver_results, add_evaluation_to_results)\n",
    "\n",
    "# Evaluate results with weighted average evaluation\n",
    "print(\"Evaluation:\")\n",
    "print(weighted_avg_evaluation(\n",
    "    solver_results.probabilities, vqa.problem.get_score,\n",
    "    penalty=0, limit_results=20, normalize=True\n",
    "))\n",
    "print(\"Sort results:\")\n",
    "sorted_results = sort_solver_results(\n",
    "    solver_results.probabilities, limit_results=20)\n",
    "\n",
    "# Add evaluation to results\n",
    "results_with_evaluation = add_evaluation_to_results(\n",
    "    sorted_results, vqa.problem.get_score, penalty=0)\n",
    "\n",
    "for result, (probability, evaluation) in results_with_evaluation.items():\n",
    "    print(f\"Result: {result}, \"\n",
    "          f\"Prob: {probability:.5}, \"\n",
    "          f\"Evaluation: {evaluation}\")\n"
   ]
  },
  {
   "cell_type": "code",
   "execution_count": 7,
   "id": "554606e3",
   "metadata": {},
   "outputs": [
    {
     "data": {
      "text/plain": [
       "<AxesSubplot: xlabel='index', ylabel='value'>"
      ]
     },
     "execution_count": 7,
     "metadata": {},
     "output_type": "execute_result"
    },
    {
     "data": {
      "image/png": "[encoded data removed]",
      "text/plain": [
       "<Figure size 640x480 with 1 Axes>"
      ]
     },
     "metadata": {},
     "output_type": "display_data"
    }
   ],
   "source": [
    "import pandas as pd\n",
    "\n",
    "pd.DataFrame(solver_results.history[0]).reset_index().plot(x='index',y='value', kind='scatter')"
   ]
  },
  {
   "cell_type": "code",
   "execution_count": 8,
   "id": "005be33b",
   "metadata": {},
   "outputs": [],
   "source": [
    "tasks_file =  \"workflows_data/workflows/srasearch_22_tasks.json\"\n",
    "machines_file = \"workflows_data/machines/cyfronet.json\"\n",
    "deadline = 492081827"
   ]
  },
  {
   "cell_type": "code",
   "execution_count": 9,
   "id": "cf32337e",
   "metadata": {},
   "outputs": [],
   "source": [
    "solver_config = {\n",
    "    \"solver\": {\n",
    "        \"type\": \"cqm\",\n",
    "        \"time\": 10,\n",
    "    },\n",
    "    \"problem\": {\n",
    "        \"type\": \"workflow_scheduling\",\n",
    "        \"encoding\": \"one-hot\",\n",
    "        \"tasks_file\": tasks_file,\n",
    "        \"machines_file\": machines_file,\n",
    "        \"deadline\": deadline,\n",
    "    }\n",
    "}\n",
    "\n",
    "cqm = solver_from_config(solver_config)\n"
   ]
  },
  {
   "cell_type": "code",
   "execution_count": 10,
   "id": "b1db06a5",
   "metadata": {},
   "outputs": [],
   "source": [
    "result = cqm.solve()"
   ]
  },
  {
   "cell_type": "code",
   "execution_count": 11,
   "id": "6a46c235",
   "metadata": {},
   "outputs": [
    {
     "data": {
      "text/plain": [
       "{'bowtie2-build_ID0000001': 'AresGpu',\n",
       " 'bowtie2_ID0000021': 'AresGpu',\n",
       " 'merge_ID0000022': 'AresGpu',\n",
       " 'bowtie2_ID0000003': 'AresGpu',\n",
       " 'fasterq-dump_ID0000004': 'AresGpu',\n",
       " 'bowtie2_ID0000005': 'AresGpu',\n",
       " 'fasterq-dump_ID0000006': 'AresGpu',\n",
       " 'bowtie2_ID0000007': 'AresGpu',\n",
       " 'fasterq-dump_ID0000008': 'AresGpu',\n",
       " 'bowtie2_ID0000009': 'AresGpu',\n",
       " 'fasterq-dump_ID0000010': 'AresGpu',\n",
       " 'bowtie2_ID0000011': 'AresGpu',\n",
       " 'fasterq-dump_ID0000012': 'AresGpu',\n",
       " 'fasterq-dump_ID0000002': 'AresGpu',\n",
       " 'bowtie2_ID0000013': 'AresGpu',\n",
       " 'fasterq-dump_ID0000014': 'AresGpu',\n",
       " 'bowtie2_ID0000015': 'AresGpu',\n",
       " 'fasterq-dump_ID0000016': 'AresGpu',\n",
       " 'bowtie2_ID0000017': 'AresGpu',\n",
       " 'fasterq-dump_ID0000018': 'AresGpu',\n",
       " 'bowtie2_ID0000019': 'AresGpu',\n",
       " 'fasterq-dump_ID0000020': 'AresGpu'}"
      ]
     },
     "execution_count": 11,
     "metadata": {},
     "output_type": "execute_result"
    }
   ],
   "source": [
    "cqm.problem.decode_solution(result)"
   ]
  },
  {
   "cell_type": "code",
   "execution_count": null,
   "id": "4d1425c3",
   "metadata": {},
   "outputs": [],
   "source": []
  }
 ],
 "metadata": {
  "celltoolbar": "Raw Cell Format",
  "kernelspec": {
   "display_name": "Python 3 (ipykernel)",
   "language": "python",
   "name": "python3"
  },
  "language_info": {
   "codemirror_mode": {
    "name": "ipython",
    "version": 3
   },
   "file_extension": ".py",
   "mimetype": "text/x-python",
   "name": "python",
   "nbconvert_exporter": "python",
   "pygments_lexer": "ipython3",
   "version": "3.10.8"
  }
 },
 "nbformat": 4,
 "nbformat_minor": 5
}
