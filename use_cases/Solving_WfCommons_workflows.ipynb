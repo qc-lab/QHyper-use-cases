{
 "cells": [
  {
   "attachments": {},
   "cell_type": "markdown",
   "id": "a7d1d81d",
   "metadata": {
    "slideshow": {
     "slide_type": "slide"
    }
   },
   "source": [
    "## WfCommons to QUBO: Dealing with inequality constraints \n",
    "\n",
    "An inequality constraint:  $$h(x) = \\sum_{i} l_i x_i  - C \\leq 0$$"
   ]
  },
  {
   "cell_type": "markdown",
   "id": "bdbc6ec4",
   "metadata": {
    "slideshow": {
     "slide_type": "fragment"
    }
   },
   "source": [
    "1) Using slacks: \n",
    "\n",
    "$$ \\big(\\sum_{i} l_i x_i + \\sum_{k} 2^k s_k - C \\big)^2 = 0  $$\n"
   ]
  },
  {
   "cell_type": "markdown",
   "id": "a39a7cd1",
   "metadata": {
    "slideshow": {
     "slide_type": "fragment"
    }
   },
   "source": [
    "2. Using the **unbalanced function** (A. Montanez-Barrera et al., 2022) :\n",
    "\n",
    "$$ e^{h(x)} \\approx 1 + h(x) + \\frac{1}{2} h(x)^2 $$\n",
    "\n",
    "$$ \\lambda_1 \\big(\\sum_{i} l_i x_i - C\\big) + \\lambda_2 \\big(\\sum_{i} l_i x_i - C\\big)^2 $$"
   ]
  },
  {
   "cell_type": "markdown",
   "id": "c9cd76b6",
   "metadata": {
    "slideshow": {
     "slide_type": "slide"
    }
   },
   "source": [
    "2. Using the **unbalanced function** (A. Montanez-Barrera et al., 2022) :\n",
    "\n",
    "$$ e^{h(x)} \\approx 1 + h(x) + \\frac{1}{2} h(x)^2 $$\n",
    "\n",
    "$$ \\lambda_1 \\big(\\sum_{i} l_i x_i - C\\big) + \\lambda_2 \\big(\\sum_{i} l_i x_i - C\\big)^2 $$"
   ]
  },
  {
   "cell_type": "code",
   "execution_count": 1,
   "id": "f9d96cf4",
   "metadata": {
    "slideshow": {
     "slide_type": "-"
    }
   },
   "outputs": [],
   "source": [
    "import numpy as np\n",
    "params_config = {\n",
    "    'angles': [[1.9482, 4.2254, 4.1086, 5.7801, 4.1416, 3.8738],   # gammas\n",
    "               [0.9043, 2.5178, 1.7931, 2.4655, 1.3755, 1.0457]],  # betas\n",
    "    'hyper_args': [1, 2, 2], # obj. function, lambda_1, lambda_2\n",
    "}"
   ]
  },
  {
   "cell_type": "code",
   "execution_count": 2,
   "id": "8dbdf752",
   "metadata": {
    "slideshow": {
     "slide_type": "slide"
    }
   },
   "outputs": [],
   "source": [
    "from QHyper.solvers import VQA, solver_from_config\n",
    "\n",
    "solver_config = {\n",
    "    \"problem\": {\n",
    "        \"type\": \"workflow_scheduling\",\n",
    "        \"encoding\": \"binary\",\n",
    "        \"tasks_file\": \"workflows_data/workflows/3_tasks_1_path.json\",\n",
    "        \"machines_file\": \"workflows_data/machines/4_machines.json\",\n",
    "        \"deadline\": 13,\n",
    "    },\n",
    "    \"solver\": {\n",
    "        \"type\": \"vqa\",\n",
    "        \"pqc\": {\n",
    "            \"type\": \"qml_qaoa\",\n",
    "            \"layers\": 6,\n",
    "            \"optimizer\": \"qng\",\n",
    "            \"optimizer_args\": {\n",
    "                \"stepsize\": 0.00045,\n",
    "                \"steps\": 50,\n",
    "                \"verbose\": True,\n",
    "            },\n",
    "            \"backend\": \"default.qubit\",\n",
    "        },\n",
    "        \"params_inits\": params_config\n",
    "    }\n",
    "}\n",
    "\n",
    "vqa = solver_from_config(solver_config)"
   ]
  },
  {
   "cell_type": "code",
   "execution_count": 3,
   "id": "d5baf644",
   "metadata": {
    "slideshow": {
     "slide_type": "slide"
    }
   },
   "outputs": [
    {
     "name": "stdout",
     "output_type": "stream",
     "text": [
      "Step 1/50: 395.1869821406809\n",
      "Step 2/50: 306.0307396542473\n",
      "Step 3/50: 273.5168936669108\n",
      "Step 4/50: 260.5940565735004\n",
      "Step 5/50: 254.2303367772227\n",
      "Step 6/50: 250.40926054578563\n",
      "Step 7/50: 247.71784774085984\n",
      "Step 8/50: 245.5733611996606\n",
      "Step 9/50: 243.70799684044803\n",
      "Step 10/50: 241.99267922031143\n",
      "Step 11/50: 240.3646955375157\n",
      "Step 12/50: 238.79426110970402\n",
      "Step 13/50: 237.26822769212436\n",
      "Step 14/50: 235.7818761093793\n",
      "Step 15/50: 234.334602637898\n",
      "Step 16/50: 232.9275058316325\n",
      "Step 17/50: 231.5619322298392\n",
      "Step 18/50: 230.23854994315698\n",
      "Step 19/50: 228.95676592924343\n",
      "Step 20/50: 227.71441730178242\n",
      "Step 21/50: 226.5077121697541\n",
      "Step 22/50: 225.33140330123913\n",
      "Step 23/50: 224.17916719642406\n",
      "Step 24/50: 223.0441445178424\n",
      "Step 25/50: 221.91958339019084\n",
      "Step 26/50: 220.79951889451795\n",
      "Step 27/50: 219.67942078232977\n",
      "Step 28/50: 218.5567456691862\n",
      "Step 29/50: 217.43133804810037\n",
      "Step 30/50: 216.30563553514477\n",
      "Step 31/50: 215.1846481413901\n",
      "Step 32/50: 214.07569997914698\n",
      "Step 33/50: 212.98794503910983\n",
      "Step 34/50: 211.93169525297645\n",
      "Step 35/50: 210.9176254299441\n",
      "Step 36/50: 209.95594042932578\n",
      "Step 37/50: 209.0555993030662\n",
      "Step 38/50: 208.2236850332489\n",
      "Step 39/50: 207.46498647671044\n",
      "Step 40/50: 206.781825229944\n",
      "Step 41/50: 206.1741218867141\n",
      "Step 42/50: 205.63966227064142\n",
      "Step 43/50: 205.1745016774426\n",
      "Step 44/50: 204.77343717690272\n",
      "Step 45/50: 204.43048357315325\n",
      "Step 46/50: 204.13930354563854\n",
      "Step 47/50: 203.89356140590036\n",
      "Step 48/50: 203.68718804408752\n",
      "Step 49/50: 203.51455891762944\n",
      "Step 50/50: 203.37059616376294\n"
     ]
    }
   ],
   "source": [
    "solver_results = vqa.solve()"
   ]
  },
  {
   "cell_type": "code",
   "execution_count": 4,
   "id": "554606e3",
   "metadata": {
    "slideshow": {
     "slide_type": "slide"
    }
   },
   "outputs": [
    {
     "data": {
      "text/plain": [
       "<AxesSubplot: xlabel='index', ylabel='value'>"
      ]
     },
     "execution_count": 4,
     "metadata": {},
     "output_type": "execute_result"
    },
    {
     "data": {
      "image/png": "[encoded data removed]",
      "text/plain": [
       "<Figure size 640x480 with 1 Axes>"
      ]
     },
     "metadata": {},
     "output_type": "display_data"
    }
   ],
   "source": [
    "import pandas as pd\n",
    "\n",
    "pd.DataFrame(solver_results.history[0]).reset_index().plot(x='index',y='value', kind='scatter')"
   ]
  },
  {
   "cell_type": "code",
   "execution_count": 5,
   "id": "dc368439",
   "metadata": {
    "slideshow": {
     "slide_type": "slide"
    }
   },
   "outputs": [
    {
     "name": "stdout",
     "output_type": "stream",
     "text": [
      "Best params: {'angles': tensor([[1.94824404, 4.22606355, 4.10783934, 5.78004543, 4.14199089,\n",
      "         3.87371591],\n",
      "        [0.87116674, 2.61620323, 1.70712985, 2.43543308, 1.26776386,\n",
      "         0.88477619]], requires_grad=True), 'hyper_args': tensor([1, 2, 2], requires_grad=True)}\n"
     ]
    }
   ],
   "source": [
    "print(f\"Best params: {solver_results.params}\")"
   ]
  },
  {
   "cell_type": "code",
   "execution_count": 6,
   "id": "f4710450",
   "metadata": {
    "slideshow": {
     "slide_type": "slide"
    }
   },
   "outputs": [
    {
     "name": "stdout",
     "output_type": "stream",
     "text": [
      "Evaluation:\n",
      "16.09368696345938\n",
      "Sort results:\n",
      "Result: 000001, \t Prob: 0.23369, \t Evaluation: 25.0\n",
      "Result: 000101, \t Prob: 0.043394, \t Evaluation: 26.0\n",
      "Result: 101001, \t Prob: 0.037332, \t Evaluation: 28.0\n",
      "Result: 011010, \t Prob: 0.037254, \t Evaluation: 28.0\n",
      "Result: 111101, \t Prob: 0.036207, \t Evaluation: 0\n",
      "Result: 100101, \t Prob: 0.03569, \t Evaluation: 28.0\n",
      "Result: 101101, \t Prob: 0.028978, \t Evaluation: 0\n",
      "Result: 011101, \t Prob: 0.027494, \t Evaluation: 0\n",
      "Result: 110001, \t Prob: 0.026161, \t Evaluation: 0\n",
      "Result: 000010, \t Prob: 0.02585, \t Evaluation: 0\n",
      "Result: 010101, \t Prob: 0.025357, \t Evaluation: 28.0\n",
      "Result: 111001, \t Prob: 0.023499, \t Evaluation: 0\n",
      "Result: 100001, \t Prob: 0.023403, \t Evaluation: 27.0\n",
      "Result: 010001, \t Prob: 0.022452, \t Evaluation: 27.0\n",
      "Result: 010100, \t Prob: 0.022427, \t Evaluation: 0\n",
      "Result: 010111, \t Prob: 0.022149, \t Evaluation: 0\n",
      "Result: 011110, \t Prob: 0.020162, \t Evaluation: 0\n",
      "Result: 001010, \t Prob: 0.019498, \t Evaluation: 0\n",
      "Result: 101010, \t Prob: 0.017514, \t Evaluation: 0\n",
      "Result: 010000, \t Prob: 0.017514, \t Evaluation: 0\n"
     ]
    }
   ],
   "source": [
    "from QHyper.util import (\n",
    "    weighted_avg_evaluation, sort_solver_results, add_evaluation_to_results)\n",
    "\n",
    "# Evaluate results with weighted average evaluation\n",
    "print(\"Evaluation:\")\n",
    "print(weighted_avg_evaluation(\n",
    "    solver_results.probabilities, vqa.problem.get_score,\n",
    "    penalty=0, limit_results=20, normalize=True\n",
    "))\n",
    "print(\"Sort results:\")\n",
    "sorted_results = sort_solver_results(\n",
    "    solver_results.probabilities, limit_results=20)\n",
    "\n",
    "# Add evaluation to results\n",
    "results_with_evaluation = add_evaluation_to_results(\n",
    "    sorted_results, vqa.problem.get_score, penalty=0)\n",
    "\n",
    "for result, (probability, evaluation) in results_with_evaluation.items():\n",
    "    print(f\"Result: {result}, \"\n",
    "          f\"\\t Prob: {probability:.5}, \"\n",
    "          f\"\\t Evaluation: {evaluation}\")"
   ]
  },
  {
   "cell_type": "code",
   "execution_count": 7,
   "id": "cf32337e",
   "metadata": {
    "slideshow": {
     "slide_type": "slide"
    }
   },
   "outputs": [],
   "source": [
    "solver_config = {\n",
    "    \"problem\": {\n",
    "        \"type\": \"workflow_scheduling\",\n",
    "        \"encoding\": \"one-hot\",\n",
    "        \"tasks_file\": \"workflows_data/workflows/srasearch_22_tasks.json\", \n",
    "        \"machines_file\": \"workflows_data/machines/cyfronet.json\",\n",
    "        \"deadline\": 5000,\n",
    "    },\n",
    "    \"solver\": {\n",
    "        \"type\": \"cqm\",\n",
    "        \"time\": 10,\n",
    "    }\n",
    "}\n",
    "\n",
    "cqm = solver_from_config(solver_config)"
   ]
  },
  {
   "cell_type": "code",
   "execution_count": 8,
   "id": "b1db06a5",
   "metadata": {
    "slideshow": {
     "slide_type": "slide"
    }
   },
   "outputs": [],
   "source": [
    "result = cqm.solve()"
   ]
  },
  {
   "cell_type": "code",
   "execution_count": 9,
   "id": "6a46c235",
   "metadata": {
    "scrolled": true,
    "slideshow": {
     "slide_type": "-"
    }
   },
   "outputs": [
    {
     "data": {
      "text/plain": [
       "{'bowtie2-build_ID0000001': 'AresCpu',\n",
       " 'bowtie2_ID0000021': 'AresGpu',\n",
       " 'merge_ID0000022': 'ZeusCpu',\n",
       " 'bowtie2_ID0000003': 'AresGpu',\n",
       " 'fasterq-dump_ID0000004': 'AresGpu',\n",
       " 'bowtie2_ID0000005': 'PrometeusGpu',\n",
       " 'fasterq-dump_ID0000006': 'AresGpu',\n",
       " 'bowtie2_ID0000007': 'PrometeusGpu',\n",
       " 'fasterq-dump_ID0000008': 'AresGpu',\n",
       " 'bowtie2_ID0000009': 'PrometeusGpu',\n",
       " 'fasterq-dump_ID0000010': 'AresGpu',\n",
       " 'bowtie2_ID0000011': 'PrometeusGpu',\n",
       " 'fasterq-dump_ID0000012': 'AresGpu',\n",
       " 'fasterq-dump_ID0000002': 'AresGpu',\n",
       " 'bowtie2_ID0000013': 'PrometeusGpu',\n",
       " 'fasterq-dump_ID0000014': 'AresGpu',\n",
       " 'bowtie2_ID0000015': 'PrometeusGpu',\n",
       " 'fasterq-dump_ID0000016': 'AresGpu',\n",
       " 'bowtie2_ID0000017': 'AresGpu',\n",
       " 'fasterq-dump_ID0000018': 'AresGpu',\n",
       " 'bowtie2_ID0000019': 'PrometeusGpu',\n",
       " 'fasterq-dump_ID0000020': 'AresGpu'}"
      ]
     },
     "execution_count": 9,
     "metadata": {},
     "output_type": "execute_result"
    }
   ],
   "source": [
    "cqm.problem.decode_solution(result)"
   ]
  }
 ],
 "metadata": {
  "celltoolbar": "Slideshow",
  "kernelspec": {
   "display_name": "Python 3 (ipykernel)",
   "language": "python",
   "name": "python3"
  },
  "language_info": {
   "codemirror_mode": {
    "name": "ipython",
    "version": 3
   },
   "file_extension": ".py",
   "mimetype": "text/x-python",
   "name": "python",
   "nbconvert_exporter": "python",
   "pygments_lexer": "ipython3",
   "version": "3.10.8"
  }
 },
 "nbformat": 4,
 "nbformat_minor": 5
}
