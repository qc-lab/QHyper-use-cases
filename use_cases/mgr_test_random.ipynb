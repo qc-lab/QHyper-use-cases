{
 "cells": [
  {
   "cell_type": "code",
   "execution_count": 1,
   "metadata": {},
   "outputs": [],
   "source": [
    "from QHyper.problems import KnapsackProblem\n",
    "from QHyper.solvers import solver_from_config\n",
    "from QHyper.util import (\n",
    "    weighted_avg_evaluation, sort_solver_results, add_evaluation_to_results)\n",
    "\n",
    "\n",
    "problem_config = {  # This is going to be used later\n",
    "    'type': 'knapsack',\n",
    "    'max_weight': 3,\n",
    "    'items': [(1, 2), (2, 4), (1, 2), (1, 1)]\n",
    "}\n",
    "\n",
    "params_config = {\n",
    "    'angles': [[0.5]*5, [1]*5],\n",
    "    'hyper_args': [1, 2.5, 2.5],\n",
    "}\n",
    "hyper_optimizer_bounds = 3*[(1, 10)]\n",
    "penalty = 1\n"
   ]
  },
  {
   "cell_type": "code",
   "execution_count": 2,
   "metadata": {},
   "outputs": [],
   "source": [
    "solver_config = {\n",
    "    \"solver\": {\n",
    "        \"type\": \"vqa\",\n",
    "        \"optimizer\": {\n",
    "            \"type\": \"scipy\",\n",
    "            \"maxfun\": 200,\n",
    "            # \"verbose\": True,\n",
    "            # \"optimizer_kwargs\": {\n",
    "                \"options\": {\n",
    "                    \"disp\": True,\n",
    "                }\n",
    "            # }\n",
    "        },\n",
    "        \"pqc\": {\n",
    "            \"type\": \"wfqaoa\",\n",
    "            \"layers\": 5,\n",
    "            # \"limit_results\": 20,\n",
    "            # \"penalty\": penalty,\n",
    "        },\n",
    "        \"params_inits\": params_config,\n",
    "        # \"hyper_optimizer\": {\n",
    "        #     \"type\": \"random\",\n",
    "        #     \"processes\": 5,\n",
    "        #     \"number_of_samples\": 1000,\n",
    "        #     \"bounds\": hyper_optimizer_bounds,\n",
    "        # }\n",
    "    },\n",
    "    \"problem\": problem_config\n",
    "}\n",
    "vqa = solver_from_config(solver_config)\n"
   ]
  },
  {
   "cell_type": "code",
   "execution_count": 3,
   "metadata": {},
   "outputs": [
    {
     "name": "stdout",
     "output_type": "stream",
     "text": [
      "RUNNING THE L-BFGS-B CODE\n",
      "\n",
      "           * * *\n",
      "\n",
      "Machine precision = 2.220D-16\n",
      " N =           10     M =           10\n",
      "\n",
      "At X0         0 variables are exactly at the bounds\n",
      "\n",
      "At iterate    0    f= -2.78037D-01    |proj g|=  5.13256D+00\n",
      "\n",
      "At iterate    1    f= -7.17453D-01    |proj g|=  4.61472D+00\n",
      "\n",
      "At iterate    2    f= -7.36995D-01    |proj g|=  4.02934D+00\n",
      "\n",
      "At iterate    3    f= -7.99859D-01    |proj g|=  5.32254D+00\n",
      "\n",
      "At iterate    4    f= -9.68091D-01    |proj g|=  5.32790D+00\n",
      "\n",
      "At iterate    5    f= -1.00373D+00    |proj g|=  1.06578D+00\n",
      "\n",
      "At iterate    6    f= -1.00570D+00    |proj g|=  1.17478D+00\n",
      "\n",
      "At iterate    7    f= -1.00967D+00    |proj g|=  7.57373D-01\n",
      "\n",
      "At iterate    8    f= -1.01536D+00    |proj g|=  8.04686D-01\n",
      "\n",
      "At iterate    9    f= -1.02799D+00    |proj g|=  2.12483D+00\n",
      "\n",
      "At iterate   10    f= -1.04247D+00    |proj g|=  2.80802D+00\n",
      "\n",
      "At iterate   11    f= -1.05873D+00    |proj g|=  1.59233D+00\n",
      "\n",
      "At iterate   12    f= -1.06575D+00    |proj g|=  5.58219D-01\n",
      "\n",
      "           * * *\n",
      "\n",
      "Tit   = total number of iterations\n",
      "Tnf   = total number of function evaluations\n",
      "Tnint = total number of segments explored during Cauchy searches\n",
      "Skip  = number of BFGS updates skipped\n",
      "Nact  = number of active bounds at final generalized Cauchy point\n",
      "Projg = norm of the final projected gradient\n",
      "F     = final function value\n",
      "\n",
      "           * * *\n",
      "\n",
      "   N    Tit     Tnf  Tnint  Skip  Nact     Projg        F\n",
      "   10     12     19     16     0     2   5.582D-01  -1.066D+00\n",
      "  F =  -1.0657463448661291     \n",
      "\n",
      "STOP: TOTAL NO. of f AND g EVALUATIONS EXCEEDS LIMIT        \n"
     ]
    }
   ],
   "source": [
    "solver_results = vqa.solve()\n"
   ]
  },
  {
   "cell_type": "code",
   "execution_count": 4,
   "metadata": {},
   "outputs": [
    {
     "name": "stdout",
     "output_type": "stream",
     "text": [
      "Solver results:\n",
      "Probabilities: {'0000000': 0.009060335867500824, '0000001': 0.0008290455030495671, '0000010': 0.012105132484062033, '0000011': 0.002784537605446509, '0000100': 0.001943333561795686, '0000101': 0.00032430237005614876, '0000110': 0.0001746191387586759, '0000111': 0.026607785829911516, '0001000': 0.028911242290484796, '0001001': 0.0030716067950133127, '0001010': 0.007753406191015564, '0001011': 0.006712525035357743, '0001100': 0.050515648489401495, '0001101': 0.009035572866664968, '0001110': 0.030485244849535593, '0001111': 0.027446649026460112, '0010000': 0.0044561061764789855, '0010001': 0.017707295232321785, '0010010': 0.007780527842933431, '0010011': 5.616917201943462e-06, '0010100': 0.006393577707504047, '0010101': 0.014429180739390111, '0010110': 0.0005700101404508579, '0010111': 0.0009217269553878178, '0011000': 0.0030835044540870942, '0011001': 0.0006000553667155806, '0011010': 0.018360768189007025, '0011011': 0.003731516632518453, '0011100': 0.0013047200389977702, '0011101': 0.0016754220298680982, '0011110': 0.0007931502953401322, '0011111': 0.01956356282799166, '0100000': 0.0017915299633032861, '0100001': 0.003995288062383529, '0100010': 0.0016178141199396094, '0100011': 0.002275399922116188, '0100100': 0.0005788354048278388, '0100101': 0.00032482204698479843, '0100110': 0.0008561645372689437, '0100111': 0.0023233668551786864, '0101000': 0.004607581911562277, '0101001': 0.044814225118450055, '0101010': 0.02248939944750806, '0101011': 0.005344277993984711, '0101100': 0.01353296067192069, '0101101': 0.007301822108860389, '0101110': 0.018852489831535292, '0101111': 0.0070071507399955555, '0110000': 0.0052808424043488626, '0110001': 0.005570137865200466, '0110010': 0.0011150807107246626, '0110011': 0.003696774734540026, '0110100': 0.005179122005060501, '0110101': 0.0026498135558156465, '0110110': 0.0031013811477108837, '0110111': 0.0024289835006432925, '0111000': 0.002080348731912051, '0111001': 0.00011897247078726506, '0111010': 0.0020185884590649297, '0111011': 0.00035302986437283626, '0111100': 0.0002780051538518006, '0111101': 0.0003234025581051576, '0111110': 0.00012035238519905836, '0111111': 0.00544183989639286, '1000000': 0.0044561061764789986, '1000001': 0.0177072952323218, '1000010': 0.007780527842933432, '1000011': 5.616917201943297e-06, '1000100': 0.00639357770750405, '1000101': 0.014429180739390125, '1000110': 0.000570010140450856, '1000111': 0.000921726955387819, '1001000': 0.003083504454087093, '1001001': 0.0006000553667155805, '1001010': 0.01836076818900701, '1001011': 0.0037315166325184437, '1001100': 0.0013047200389977687, '1001101': 0.0016754220298680958, '1001110': 0.0007931502953401298, '1001111': 0.019563562827991588, '1010000': 0.005733113668990521, '1010001': 0.004457397206594752, '1010010': 0.11912032904521082, '1010011': 0.009887490434487523, '1010100': 0.029980002513948802, '1010101': 0.034493538467533794, '1010110': 0.004283891824164826, '1010111': 0.0059265103118869445, '1011000': 0.0029409845543213824, '1011001': 0.021125284755480294, '1011010': 0.013560431122270405, '1011011': 0.000752050672106912, '1011100': 0.001681706296413543, '1011101': 0.013105349600693705, '1011110': 0.0006817397172514371, '1011111': 0.003064463123173946, '1100000': 0.005280842404348852, '1100001': 0.005570137865200476, '1100010': 0.001115080710724658, '1100011': 0.0036967747345400333, '1100100': 0.0051791220050605, '1100101': 0.0026498135558156474, '1100110': 0.0031013811477108868, '1100111': 0.002428983500643284, '1101000': 0.002080348731912049, '1101001': 0.00011897247078726681, '1101010': 0.002018588459064929, '1101011': 0.0003530298643728356, '1101100': 0.00027800515385179757, '1101101': 0.0003234025581051568, '1101110': 0.00012035238519905744, '1101111': 0.005441839896392858, '1110000': 0.006409732029203886, '1110001': 0.009369086413349171, '1110010': 0.0012630894052663914, '1110011': 0.015378279042999895, '1110100': 0.007632354461211915, '1110101': 0.011945342093095201, '1110110': 0.00648732682747983, '1110111': 0.0033035915809437578, '1111000': 0.004558128784384377, '1111001': 0.001705204000345672, '1111010': 0.0005026364320141498, '1111011': 0.0037558530097138495, '1111100': 0.008901014813621641, '1111101': 0.0045804583309177645, '1111110': 0.0012901841210975385, '1111111': 0.004382484719630726}\n",
      "Best params: {'angles': array([[0.        , 4.29107074, 2.26026244, 5.3345966 , 0.        ],\n",
      "       [0.19332824, 1.44153099, 0.09583153, 0.61196108, 0.13424441]]), 'hyper_args': tensor([1. , 2.5, 2.5], requires_grad=True)}\n"
     ]
    }
   ],
   "source": [
    "print(\"Solver results:\")\n",
    "print(f\"Probabilities: {solver_results.probabilities}\")\n",
    "print(f\"Best params: {solver_results.params}\")\n"
   ]
  },
  {
   "cell_type": "code",
   "execution_count": 5,
   "metadata": {},
   "outputs": [
    {
     "name": "stdout",
     "output_type": "stream",
     "text": [
      "Evaluation:\n",
      "-1.6224849099348306\n",
      "Sort results:\n",
      "Result: 1010010, Prob: 0.11912, Evaluation: -4\n",
      "Result: 0001100, Prob: 0.050516, Evaluation: -1\n",
      "Result: 0101001, Prob: 0.044814, Evaluation: -5\n",
      "Result: 1010101, Prob: 0.034494, Evaluation: 1\n",
      "Result: 0001110, Prob: 0.030485, Evaluation: 1\n",
      "Result: 1010100, Prob: 0.02998, Evaluation: 1\n",
      "Result: 0001000, Prob: 0.028911, Evaluation: 1\n",
      "Result: 0001111, Prob: 0.027447, Evaluation: 1\n",
      "Result: 0000111, Prob: 0.026608, Evaluation: 1\n",
      "Result: 0101010, Prob: 0.022489, Evaluation: 1\n",
      "Result: 1011001, Prob: 0.021125, Evaluation: -5\n",
      "Result: 0011111, Prob: 0.019564, Evaluation: 1\n",
      "Result: 1001111, Prob: 0.019564, Evaluation: 1\n",
      "Result: 0101110, Prob: 0.018852, Evaluation: 1\n",
      "Result: 0011010, Prob: 0.018361, Evaluation: -3\n",
      "Result: 1001010, Prob: 0.018361, Evaluation: -3\n",
      "Result: 1000001, Prob: 0.017707, Evaluation: 1\n",
      "Result: 0010001, Prob: 0.017707, Evaluation: 1\n",
      "Result: 1110011, Prob: 0.015378, Evaluation: 1\n",
      "Result: 1000101, Prob: 0.014429, Evaluation: 1\n"
     ]
    }
   ],
   "source": [
    "print(\"Evaluation:\")\n",
    "print(weighted_avg_evaluation(\n",
    "    solver_results.probabilities, vqa.problem.get_score,\n",
    "    penalty=0, limit_results=20, normalize=True\n",
    "))\n",
    "print(\"Sort results:\")\n",
    "sorted_results = sort_solver_results(\n",
    "    solver_results.probabilities, limit_results=20)\n",
    "\n",
    "# Add evaluation to results\n",
    "results_with_evaluation = add_evaluation_to_results(\n",
    "    sorted_results, vqa.problem.get_score, penalty=penalty)\n",
    "\n",
    "for result, (probability, evaluation) in results_with_evaluation.items():\n",
    "    print(f\"Result: {result}, \"\n",
    "          f\"Prob: {probability:.5}, \"\n",
    "          f\"Evaluation: {evaluation}\")\n"
   ]
  },
  {
   "cell_type": "code",
   "execution_count": null,
   "metadata": {},
   "outputs": [],
   "source": []
  },
  {
   "cell_type": "code",
   "execution_count": null,
   "metadata": {},
   "outputs": [],
   "source": []
  }
 ],
 "metadata": {
  "kernelspec": {
   "display_name": "venv",
   "language": "python",
   "name": "python3"
  },
  "language_info": {
   "codemirror_mode": {
    "name": "ipython",
    "version": 3
   },
   "file_extension": ".py",
   "mimetype": "text/x-python",
   "name": "python",
   "nbconvert_exporter": "python",
   "pygments_lexer": "ipython3",
   "version": "3.10.12"
  }
 },
 "nbformat": 4,
 "nbformat_minor": 2
}
