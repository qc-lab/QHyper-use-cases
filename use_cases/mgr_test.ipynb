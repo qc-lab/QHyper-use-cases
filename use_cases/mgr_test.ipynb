{
 "cells": [
  {
   "cell_type": "code",
   "execution_count": 1,
   "metadata": {},
   "outputs": [],
   "source": [
    "from QHyper.problems import KnapsackProblem\n",
    "from QHyper.solvers import solver_from_config\n",
    "from QHyper.util import (\n",
    "    weighted_avg_evaluation, sort_solver_results, add_evaluation_to_results)\n",
    "\n",
    "import numpy as np\n",
    "\n",
    "LAYERS = 2\n",
    "problem_config = {  # This is going to be used later\n",
    "    'type': 'knapsack',\n",
    "    'max_weight': 3,\n",
    "    'items': [(1, 2), (2, 4), (1, 2)]\n",
    "}\n",
    "\n",
    "params_config = {\n",
    "    'angles': [[0.5]*LAYERS, [1]*LAYERS],\n",
    "    'hyper_args': [1, 2.5, 2.5],\n",
    "}\n",
    "hyper_optimizer_bounds = 3*[(1, 10)]\n",
    "penalty = 2\n"
   ]
  },
  {
   "cell_type": "code",
   "execution_count": 2,
   "metadata": {},
   "outputs": [],
   "source": [
    "solver_config = {\n",
    "    \"solver\": {\n",
    "        \"type\": \"vqa\",\n",
    "        \"optimizer\": {\n",
    "            # \"type\": \"scipy\",\n",
    "            # \"maxfun\": 200,\n",
    "\n",
    "            \"type\": \"random\",\n",
    "            \"number_of_samples\": 1000,\n",
    "            \"bounds\": 2*LAYERS*[(0, 2*np.pi)],\n",
    "            # \"type\": \"cem\",\n",
    "            \"processes\": 10,\n",
    "            # \"samples_per_epoch\": 500,\n",
    "            # \"epochs\": 5,\n",
    "            # \"bounds\": 10*[(0, 2*np.pi)],\n",
    "            \"verbose\": True,\n",
    "        },\n",
    "        \"pqc\": {\n",
    "            \"type\": \"wfqaoa\",\n",
    "            \"layers\": LAYERS,\n",
    "            \"limit_results\": 1,\n",
    "            \"penalty\": penalty,\n",
    "        },\n",
    "        \"params_inits\": params_config,\n",
    "        # \"hyper_optimizer\": {\n",
    "        #     \"type\": \"cem\",\n",
    "        #     \"processes\": 5,\n",
    "        #     \"samples_per_epoch\": 5000,\n",
    "        #     \"epochs\": 5,\n",
    "        #     \"bounds\": hyper_optimizer_bounds,\n",
    "        # }\n",
    "    },\n",
    "    \"problem\": problem_config\n",
    "}\n",
    "vqa = solver_from_config(solver_config)\n"
   ]
  },
  {
   "cell_type": "code",
   "execution_count": 3,
   "metadata": {},
   "outputs": [
    {
     "name": "stderr",
     "output_type": "stream",
     "text": [
      "100%|██████████| 1000/1000 [00:16<00:00, 59.16it/s]\n"
     ]
    },
    {
     "name": "stdout",
     "output_type": "stream",
     "text": [
      "Best result: -6.0\n",
      "Values: [-6.0, -4.0, -4.0, -4.0, -4.0, -4.0, -4.0, -4.0, -4.0, -4.0, -4.0, -4.0, -4.0, -4.0, -4.0, -4.0, -4.0, -4.0, -4.0, -4.0, -4.0, -4.0, -4.0, -4.0, -4.0, -4.0, -4.0, -4.0, -4.0, -4.0, -4.0, -4.0, -4.0, -4.0, -4.0, -4.0, -4.0, -4.0, -4.0, -4.0, -4.0, -4.0, -4.0, -4.0, -4.0, -4.0, -4.0, -4.0, -4.0, -4.0, -4.0, -4.0, -4.0, -4.0, -4.0, -4.0, -4.0, -4.0, -4.0, -4.0, -4.0, -4.0, -4.0, -4.0, -4.0, -4.0, -4.0, -4.0, -4.0, -4.0, -4.0, -4.0, -4.0, -3.9999999999999996, -3.9999999999999996, -3.9999999999999996, -3.9999999999999996, -3.9999999999999996, -3.9999999999999996, -2.0, 0.0, 0.0, 0.0, 0.0, 0.0, 0.0, 0.0, 0.0, 0.0, 0.0, 0.0, 0.0, 0.0, 0.0, 0.0, 0.0, 0.0, 0.0, 0.0, 0.0, 0.0, 0.0, 0.0, 0.0, 0.0, 0.0, 0.0, 0.0, 0.0, 1.9999999999999998, 1.9999999999999998, 1.9999999999999998, 1.9999999999999998, 1.9999999999999998, 1.9999999999999998, 1.9999999999999998, 1.9999999999999998, 1.9999999999999998, 1.9999999999999998, 1.9999999999999998, 1.9999999999999998, 1.9999999999999998, 1.9999999999999998, 1.9999999999999998, 1.9999999999999998, 1.9999999999999998, 1.9999999999999998, 1.9999999999999998, 1.9999999999999998, 1.9999999999999998, 1.9999999999999998, 1.9999999999999998, 1.9999999999999998, 1.9999999999999998, 1.9999999999999998, 1.9999999999999998, 1.9999999999999998, 1.9999999999999998, 1.9999999999999998, 1.9999999999999998, 1.9999999999999998, 1.9999999999999998, 1.9999999999999998, 1.9999999999999998, 1.9999999999999998, 1.9999999999999998, 1.9999999999999998, 1.9999999999999998, 1.9999999999999998, 1.9999999999999998, 1.9999999999999998, 1.9999999999999998, 1.9999999999999998, 1.9999999999999998, 1.9999999999999998, 1.9999999999999998, 1.9999999999999998, 1.9999999999999998, 1.9999999999999998, 1.9999999999999998, 1.9999999999999998, 1.9999999999999998, 1.9999999999999998, 1.9999999999999998, 1.9999999999999998, 1.9999999999999998, 1.9999999999999998, 1.9999999999999998, 1.9999999999999998, 1.9999999999999998, 1.9999999999999998, 1.9999999999999998, 1.9999999999999998, 1.9999999999999998, 1.9999999999999998, 1.9999999999999998, 1.9999999999999998, 1.9999999999999998, 1.9999999999999998, 1.9999999999999998, 1.9999999999999998, 1.9999999999999998, 1.9999999999999998, 1.9999999999999998, 1.9999999999999998, 1.9999999999999998, 1.9999999999999998, 1.9999999999999998, 1.9999999999999998, 1.9999999999999998, 1.9999999999999998, 1.9999999999999998, 1.9999999999999998, 1.9999999999999998, 1.9999999999999998, 1.9999999999999998, 1.9999999999999998, 1.9999999999999998, 1.9999999999999998, 1.9999999999999998, 1.9999999999999998, 1.9999999999999998, 1.9999999999999998, 1.9999999999999998, 1.9999999999999998, 1.9999999999999998, 1.9999999999999998, 1.9999999999999998, 1.9999999999999998, 1.9999999999999998, 1.9999999999999998, 1.9999999999999998, 1.9999999999999998, 1.9999999999999998, 1.9999999999999998, 1.9999999999999998, 1.9999999999999998, 1.9999999999999998, 1.9999999999999998, 1.9999999999999998, 1.9999999999999998, 1.9999999999999998, 1.9999999999999998, 2.0, 2.0, 2.0, 2.0, 2.0, 2.0, 2.0, 2.0, 2.0, 2.0, 2.0, 2.0, 2.0, 2.0, 2.0, 2.0, 2.0, 2.0, 2.0, 2.0, 2.0, 2.0, 2.0, 2.0, 2.0, 2.0, 2.0, 2.0, 2.0, 2.0, 2.0, 2.0, 2.0, 2.0, 2.0, 2.0, 2.0, 2.0, 2.0, 2.0, 2.0, 2.0, 2.0, 2.0, 2.0, 2.0, 2.0, 2.0, 2.0, 2.0, 2.0, 2.0, 2.0, 2.0, 2.0, 2.0, 2.0, 2.0, 2.0, 2.0, 2.0, 2.0, 2.0, 2.0, 2.0, 2.0, 2.0, 2.0, 2.0, 2.0, 2.0, 2.0, 2.0, 2.0, 2.0, 2.0, 2.0, 2.0, 2.0, 2.0, 2.0, 2.0, 2.0, 2.0, 2.0, 2.0, 2.0, 2.0, 2.0, 2.0, 2.0, 2.0, 2.0, 2.0, 2.0, 2.0, 2.0, 2.0, 2.0, 2.0, 2.0, 2.0, 2.0, 2.0, 2.0, 2.0, 2.0, 2.0, 2.0, 2.0, 2.0, 2.0, 2.0, 2.0, 2.0, 2.0, 2.0, 2.0, 2.0, 2.0, 2.0, 2.0, 2.0, 2.0, 2.0, 2.0, 2.0, 2.0, 2.0, 2.0, 2.0, 2.0, 2.0, 2.0, 2.0, 2.0, 2.0, 2.0, 2.0, 2.0, 2.0, 2.0, 2.0, 2.0, 2.0, 2.0, 2.0, 2.0, 2.0, 2.0, 2.0, 2.0, 2.0, 2.0, 2.0, 2.0, 2.0, 2.0, 2.0, 2.0, 2.0, 2.0, 2.0, 2.0, 2.0, 2.0, 2.0, 2.0, 2.0, 2.0, 2.0, 2.0, 2.0, 2.0, 2.0, 2.0, 2.0, 2.0, 2.0, 2.0, 2.0, 2.0, 2.0, 2.0, 2.0, 2.0, 2.0, 2.0, 2.0, 2.0, 2.0, 2.0, 2.0, 2.0, 2.0, 2.0, 2.0, 2.0, 2.0, 2.0, 2.0, 2.0, 2.0, 2.0, 2.0, 2.0, 2.0, 2.0, 2.0, 2.0, 2.0, 2.0, 2.0, 2.0, 2.0, 2.0, 2.0, 2.0, 2.0, 2.0, 2.0, 2.0, 2.0, 2.0, 2.0, 2.0, 2.0, 2.0, 2.0, 2.0, 2.0, 2.0, 2.0, 2.0, 2.0, 2.0, 2.0, 2.0, 2.0, 2.0, 2.0, 2.0, 2.0, 2.0, 2.0, 2.0, 2.0, 2.0, 2.0, 2.0, 2.0, 2.0, 2.0, 2.0, 2.0, 2.0, 2.0, 2.0, 2.0, 2.0, 2.0, 2.0, 2.0, 2.0, 2.0, 2.0, 2.0, 2.0, 2.0, 2.0, 2.0, 2.0, 2.0, 2.0, 2.0, 2.0, 2.0, 2.0, 2.0, 2.0, 2.0, 2.0, 2.0, 2.0, 2.0, 2.0, 2.0, 2.0, 2.0, 2.0, 2.0, 2.0, 2.0, 2.0, 2.0, 2.0, 2.0, 2.0, 2.0, 2.0, 2.0, 2.0, 2.0, 2.0, 2.0, 2.0, 2.0, 2.0, 2.0, 2.0, 2.0, 2.0, 2.0, 2.0, 2.0, 2.0, 2.0, 2.0, 2.0, 2.0, 2.0, 2.0, 2.0, 2.0, 2.0, 2.0, 2.0, 2.0, 2.0, 2.0, 2.0, 2.0, 2.0, 2.0, 2.0, 2.0, 2.0, 2.0, 2.0, 2.0, 2.0, 2.0, 2.0, 2.0, 2.0, 2.0, 2.0, 2.0, 2.0, 2.0, 2.0, 2.0, 2.0, 2.0, 2.0, 2.0, 2.0, 2.0, 2.0, 2.0, 2.0, 2.0, 2.0, 2.0, 2.0, 2.0, 2.0, 2.0, 2.0, 2.0, 2.0, 2.0, 2.0, 2.0, 2.0, 2.0, 2.0, 2.0, 2.0, 2.0, 2.0, 2.0, 2.0, 2.0, 2.0, 2.0, 2.0, 2.0, 2.0, 2.0, 2.0, 2.0, 2.0, 2.0, 2.0, 2.0, 2.0, 2.0, 2.0, 2.0, 2.0, 2.0, 2.0, 2.0, 2.0, 2.0, 2.0, 2.0, 2.0, 2.0, 2.0, 2.0, 2.0, 2.0, 2.0, 2.0, 2.0, 2.0, 2.0, 2.0, 2.0, 2.0, 2.0, 2.0, 2.0, 2.0, 2.0, 2.0, 2.0, 2.0, 2.0, 2.0, 2.0, 2.0, 2.0, 2.0, 2.0, 2.0, 2.0, 2.0, 2.0, 2.0, 2.0, 2.0, 2.0, 2.0, 2.0, 2.0, 2.0, 2.0, 2.0, 2.0, 2.0, 2.0, 2.0, 2.0, 2.0, 2.0, 2.0, 2.0, 2.0, 2.0, 2.0, 2.0, 2.0, 2.0, 2.0, 2.0, 2.0, 2.0, 2.0, 2.0, 2.0, 2.0, 2.0, 2.0, 2.0, 2.0, 2.0, 2.0, 2.0, 2.0, 2.0, 2.0, 2.0, 2.0, 2.0, 2.0, 2.0, 2.0, 2.0, 2.0, 2.0, 2.0, 2.0, 2.0, 2.0, 2.0, 2.0, 2.0, 2.0, 2.0, 2.0, 2.0, 2.0, 2.0, 2.0, 2.0, 2.0, 2.0, 2.0, 2.0, 2.0, 2.0, 2.0, 2.0, 2.0, 2.0, 2.0, 2.0, 2.0, 2.0, 2.0, 2.0, 2.0, 2.0, 2.0, 2.0, 2.0, 2.0, 2.0, 2.0, 2.0, 2.0, 2.0, 2.0, 2.0, 2.0, 2.0, 2.0, 2.0, 2.0, 2.0, 2.0, 2.0, 2.0, 2.0, 2.0, 2.0, 2.0, 2.0, 2.0, 2.0, 2.0, 2.0, 2.0, 2.0, 2.0, 2.0, 2.0, 2.0, 2.0, 2.0, 2.0, 2.0, 2.0, 2.0, 2.0, 2.0, 2.0, 2.0, 2.0, 2.0, 2.0, 2.0, 2.0, 2.0, 2.0, 2.0, 2.0, 2.0, 2.0, 2.0, 2.0, 2.0, 2.0, 2.0, 2.0, 2.0, 2.0, 2.0, 2.0, 2.0, 2.0, 2.0, 2.0, 2.0, 2.0, 2.0, 2.0, 2.0, 2.0, 2.0, 2.0, 2.0, 2.0, 2.0, 2.0, 2.0, 2.0, 2.0, 2.0, 2.0, 2.0, 2.0, 2.0, 2.0, 2.0, 2.0, 2.0, 2.0, 2.0, 2.0, 2.0, 2.0, 2.0, 2.0, 2.0, 2.0, 2.0, 2.0, 2.0, 2.0, 2.0, 2.0, 2.0, 2.0, 2.0, 2.0, 2.0, 2.0, 2.0, 2.0, 2.0, 2.0, 2.0, 2.0, 2.0, 2.0, 2.0, 2.0, 2.0, 2.0, 2.0, 2.0, 2.0, 2.0, 2.0, 2.0, 2.0, 2.0, 2.0, 2.0, 2.0, 2.0, 2.0, 2.0, 2.0, 2.0, 2.0, 2.0, 2.0, 2.0, 2.0, 2.0, 2.0, 2.0, 2.0, 2.0, 2.0, 2.0, 2.0, 2.0, 2.0, 2.0, 2.0, 2.0, 2.0, 2.0, 2.0, 2.0, 2.0, 2.0, 2.0, 2.0, 2.0, 2.0, 2.0, 2.0, 2.0, 2.0, 2.0, 2.0, 2.0, 2.0, 2.0, 2.0, 2.0, 2.0, 2.0, 2.0, 2.0, 2.0, 2.0, 2.0, 2.0, 2.0, 2.0, 2.0, 2.0, 2.0, 2.0, 2.0, 2.0, 2.0, 2.0, 2.0, 2.0, 2.0, 2.0, 2.0, 2.0, 2.0, 2.0, 2.0, 2.0, 2.0, 2.0, 2.0, 2.0, 2.0, 2.0, 2.0, 2.0, 2.0, 2.0, 2.0, 2.0, 2.0, 2.0, 2.0, 2.0, 2.0, 2.0, 2.0, 2.0, 2.0, 2.0, 2.0, 2.0, 2.0, 2.0, 2.0, 2.0, 2.0, 2.0, 2.0, 2.0, 2.0, 2.0, 2.0, 2.0, 2.0, 2.0, 2.0, 2.0, 2.0]\n"
     ]
    }
   ],
   "source": [
    "solver_results = vqa.solve()\n"
   ]
  },
  {
   "cell_type": "code",
   "execution_count": 4,
   "metadata": {},
   "outputs": [
    {
     "name": "stdout",
     "output_type": "stream",
     "text": [
      "Solver results:\n",
      "Probabilities: {'000000': 0.026076289955062823, '000001': 0.004990399308517668, '000010': 0.014770124631249706, '000011': 0.007327094324937771, '000100': 0.002545057933767986, '000101': 0.005182167192336298, '000110': 0.012284983848887277, '000111': 0.03281265519619462, '001000': 0.027960325130979527, '001001': 0.007101380061551157, '001010': 0.010535371331275327, '001011': 0.01277874360816671, '001100': 0.014516880767231748, '001101': 0.016187870387407242, '001110': 0.026015506751837933, '001111': 0.002339747327611167, '010000': 0.014270452168146947, '010001': 0.0008861147653512452, '010010': 0.007359540142799873, '010011': 0.012060535842227521, '010100': 0.03212379907190067, '010101': 0.015153347733930223, '010110': 0.028909907266433388, '010111': 0.034082905076739986, '011000': 0.01003526509951351, '011001': 0.03802077560577558, '011010': 0.013398204289997254, '011011': 0.023219955615758237, '011100': 0.015378280673986708, '011101': 0.007453527485166086, '011110': 0.014592785668470925, '011111': 0.00036607471626015956, '100000': 0.027960325130979544, '100001': 0.007101380061551161, '100010': 0.010535371331275318, '100011': 0.0127787436081667, '100100': 0.014516880767231738, '100101': 0.016187870387407204, '100110': 0.026015506751837898, '100111': 0.002339747327611159, '101000': 0.003795431569680583, '101001': 0.007157093518550669, '101010': 0.03319372254497709, '101011': 0.009898882216743718, '101100': 0.021557875785053675, '101101': 0.018431024766339926, '101110': 0.006395323896154639, '101111': 0.03736722905164773, '110000': 0.010035265099513484, '110001': 0.03802077560577558, '110010': 0.013398204289997252, '110011': 0.02321995561575825, '110100': 0.015378280673986708, '110101': 0.007453527485166086, '110110': 0.014592785668470902, '110111': 0.0003660747162601631, '111000': 0.008948487900564626, '111001': 0.014670029769970108, '111010': 0.026498825805654286, '111011': 0.021182917612099596, '111100': 0.00030320965661652106, '111101': 0.017057552401038508, '111110': 0.021497499884000893, '111111': 0.021408130120442136}\n",
      "Best params: {'angles': array([0.33105575, 4.94832989, 5.96585648, 1.33161888]), 'hyper_args': tensor([1. , 2.5, 2.5], requires_grad=True)}\n"
     ]
    }
   ],
   "source": [
    "print(\"Solver results:\")\n",
    "print(f\"Probabilities: {solver_results.probabilities}\")\n",
    "print(f\"Best params: {solver_results.params}\")\n"
   ]
  },
  {
   "cell_type": "code",
   "execution_count": 5,
   "metadata": {},
   "outputs": [],
   "source": [
    "# results = [weighted_avg_evaluation(x.probabilities, vqa.problem.get_score,\n",
    "#     penalty=0, limit_results=20, normalize=True\n",
    "# ) for x in solver_results.history[0]]\n",
    "# mean = np.mean(results)\n",
    "# std = np.std(results)\n",
    "\n",
    "# print(f\"Mean: {mean}\")\n",
    "# print(f\"Std: {std}\")\n"
   ]
  },
  {
   "cell_type": "code",
   "execution_count": 6,
   "metadata": {},
   "outputs": [
    {
     "name": "stdout",
     "output_type": "stream",
     "text": [
      "Evaluation:\n",
      "-1.038577997446153\n",
      "Sort results:\n",
      "Result: 011001, Prob: 0.038021, Evaluation: -6\n",
      "Result: 110001, Prob: 0.038021, Evaluation: -6\n",
      "Result: 101111, Prob: 0.037367, Evaluation: 2\n",
      "Result: 010111, Prob: 0.034083, Evaluation: 2\n",
      "Result: 101010, Prob: 0.033194, Evaluation: -4\n",
      "Result: 000111, Prob: 0.032813, Evaluation: 2\n",
      "Result: 010100, Prob: 0.032124, Evaluation: 2\n",
      "Result: 010110, Prob: 0.02891, Evaluation: 2\n",
      "Result: 100000, Prob: 0.02796, Evaluation: 2\n",
      "Result: 001000, Prob: 0.02796, Evaluation: 2\n",
      "Result: 111010, Prob: 0.026499, Evaluation: 2\n",
      "Result: 000000, Prob: 0.026076, Evaluation: 0\n",
      "Result: 001110, Prob: 0.026016, Evaluation: 2\n",
      "Result: 100110, Prob: 0.026016, Evaluation: 2\n",
      "Result: 110011, Prob: 0.02322, Evaluation: 2\n",
      "Result: 011011, Prob: 0.02322, Evaluation: 2\n",
      "Result: 101100, Prob: 0.021558, Evaluation: 2\n",
      "Result: 111110, Prob: 0.021497, Evaluation: 2\n",
      "Result: 111111, Prob: 0.021408, Evaluation: 2\n",
      "Result: 111011, Prob: 0.021183, Evaluation: 2\n"
     ]
    }
   ],
   "source": [
    "print(\"Evaluation:\")\n",
    "print(weighted_avg_evaluation(\n",
    "    solver_results.probabilities, vqa.problem.get_score,\n",
    "    penalty=0, limit_results=20, normalize=True\n",
    "))\n",
    "print(\"Sort results:\")\n",
    "sorted_results = sort_solver_results(\n",
    "    solver_results.probabilities, limit_results=20)\n",
    "\n",
    "# Add evaluation to results\n",
    "results_with_evaluation = add_evaluation_to_results(\n",
    "    sorted_results, vqa.problem.get_score, penalty=penalty)\n",
    "\n",
    "for result, (probability, evaluation) in results_with_evaluation.items():\n",
    "    print(f\"Result: {result}, \"\n",
    "          f\"Prob: {probability:.5}, \"\n",
    "          f\"Evaluation: {evaluation}\")\n"
   ]
  },
  {
   "cell_type": "code",
   "execution_count": 7,
   "metadata": {},
   "outputs": [],
   "source": [
    "after_solver_config = {\n",
    "    \"solver\": {\n",
    "        \"type\": \"vqa\",\n",
    "        \"optimizer\": {\n",
    "            \"type\": \"scipy\",\n",
    "            \"maxfun\": 2000,\n",
    "        },\n",
    "        \"pqc\": {\n",
    "            \"type\": \"wfqaoa\",\n",
    "            \"layers\": LAYERS,\n",
    "            \"limit_results\": 20,\n",
    "            \"penalty\": penalty,\n",
    "        },\n",
    "        \"params_inits\": solver_results.params,\n",
    "    },\n",
    "    \"problem\": problem_config\n",
    "}\n",
    "after_vqa = solver_from_config(after_solver_config)\n",
    "\n",
    "after_solver_results = after_vqa.solve()\n"
   ]
  },
  {
   "cell_type": "code",
   "execution_count": 8,
   "metadata": {},
   "outputs": [
    {
     "name": "stdout",
     "output_type": "stream",
     "text": [
      "Evaluation:\n",
      "-1.7211173991199504\n",
      "Sort results:\n",
      "Result: 010010, Prob: 0.064773, Evaluation: -4\n",
      "Result: 101010, Prob: 0.051935, Evaluation: -4\n",
      "Result: 000011, Prob: 0.042824, Evaluation: 2\n",
      "Result: 001100, Prob: 0.039967, Evaluation: -2\n",
      "Result: 100100, Prob: 0.039967, Evaluation: -2\n",
      "Result: 011001, Prob: 0.038849, Evaluation: -6\n",
      "Result: 110001, Prob: 0.038849, Evaluation: -6\n",
      "Result: 000110, Prob: 0.038673, Evaluation: 2\n",
      "Result: 010111, Prob: 0.037696, Evaluation: 2\n",
      "Result: 000000, Prob: 0.03249, Evaluation: 0\n",
      "Result: 111101, Prob: 0.02528, Evaluation: 2\n",
      "Result: 001011, Prob: 0.02195, Evaluation: 2\n",
      "Result: 100011, Prob: 0.02195, Evaluation: 2\n",
      "Result: 011111, Prob: 0.021705, Evaluation: 2\n",
      "Result: 110111, Prob: 0.021705, Evaluation: 2\n",
      "Result: 011100, Prob: 0.020333, Evaluation: 2\n",
      "Result: 110100, Prob: 0.020333, Evaluation: 2\n",
      "Result: 010000, Prob: 0.01857, Evaluation: 2\n",
      "Result: 100111, Prob: 0.018569, Evaluation: 2\n",
      "Result: 001111, Prob: 0.018569, Evaluation: 2\n"
     ]
    }
   ],
   "source": [
    "print(\"Evaluation:\")\n",
    "print(weighted_avg_evaluation(\n",
    "    after_solver_results.probabilities, vqa.problem.get_score,\n",
    "    penalty=0, limit_results=20, normalize=True\n",
    "))\n",
    "print(\"Sort results:\")\n",
    "sorted_results = sort_solver_results(\n",
    "    after_solver_results.probabilities, limit_results=20)\n",
    "\n",
    "# Add evaluation to results\n",
    "results_with_evaluation = add_evaluation_to_results(\n",
    "    sorted_results, vqa.problem.get_score, penalty=penalty)\n",
    "\n",
    "for result, (probability, evaluation) in results_with_evaluation.items():\n",
    "    print(f\"Result: {result}, \"\n",
    "          f\"Prob: {probability:.5}, \"\n",
    "          f\"Evaluation: {evaluation}\")\n"
   ]
  },
  {
   "cell_type": "code",
   "execution_count": 9,
   "metadata": {},
   "outputs": [
    {
     "data": {
      "text/plain": [
       "<Axes: xlabel='index', ylabel='value'>"
      ]
     },
     "execution_count": 9,
     "metadata": {},
     "output_type": "execute_result"
    },
    {
     "data": {
      "image/png": "[encoded data removed]",
      "text/plain": [
       "<Figure size 640x480 with 1 Axes>"
      ]
     },
     "metadata": {},
     "output_type": "display_data"
    }
   ],
   "source": [
    "import pandas as pd\n",
    "\n",
    "pd.DataFrame(after_solver_results.history).reset_index().plot(x='index',y='value', kind='scatter')\n"
   ]
  },
  {
   "cell_type": "code",
   "execution_count": null,
   "metadata": {},
   "outputs": [],
   "source": []
  }
 ],
 "metadata": {
  "kernelspec": {
   "display_name": "venv",
   "language": "python",
   "name": "python3"
  },
  "language_info": {
   "codemirror_mode": {
    "name": "ipython",
    "version": 3
   },
   "file_extension": ".py",
   "mimetype": "text/x-python",
   "name": "python",
   "nbconvert_exporter": "python",
   "pygments_lexer": "ipython3",
   "version": "3.10.12"
  }
 },
 "nbformat": 4,
 "nbformat_minor": 2
}
